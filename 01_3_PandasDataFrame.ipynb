{
  "nbformat": 4,
  "nbformat_minor": 0,
  "metadata": {
    "colab": {
      "provenance": []
    },
    "kernelspec": {
      "name": "python3",
      "display_name": "Python 3"
    },
    "language_info": {
      "name": "python"
    }
  },
  "cells": [
    {
      "cell_type": "code",
      "execution_count": null,
      "metadata": {
        "id": "In5gR0iJXEZx"
      },
      "outputs": [],
      "source": [
        "import numpy as np\n",
        "import pandas as pd"
      ]
    },
    {
      "cell_type": "code",
      "source": [
        "np.random.seed(101)  #Set seed for reproducivility\n",
        "mydata = np.random.randint(0,101,(4,3)) #Generate random integers in the range (0,100)\n",
        "print(\"Generate DataFrame (myData) : \\n\",mydata)"
      ],
      "metadata": {
        "colab": {
          "base_uri": "https://localhost:8080/"
        },
        "id": "Ck1VyPfrYyA9",
        "outputId": "a287fda2-4243-4578-d8b1-4870ffd05363"
      },
      "execution_count": null,
      "outputs": [
        {
          "output_type": "stream",
          "name": "stdout",
          "text": [
            "Generate DataFrame (myData) : \n",
            " [[95 11 81]\n",
            " [70 63 87]\n",
            " [75  9 77]\n",
            " [40  4 63]]\n"
          ]
        }
      ]
    },
    {
      "cell_type": "code",
      "source": [
        "myindex = ['CA', 'NY', 'AZ', 'TX']\n",
        "mycolumns = ['Jan', 'Feb', 'Mar']\n"
      ],
      "metadata": {
        "id": "RYv_8UgEXfAR"
      },
      "execution_count": null,
      "outputs": []
    },
    {
      "cell_type": "code",
      "source": [
        "# Creating a DataFrame without index and columns\n",
        "df = pd.DataFrame(data=mydata)\n",
        "print(\"DataFrame without index and columns:\\n\", df)"
      ],
      "metadata": {
        "colab": {
          "base_uri": "https://localhost:8080/"
        },
        "id": "TaZOai0iXr7_",
        "outputId": "b7b7e857-7702-499f-fee5-319b42e0f31a"
      },
      "execution_count": null,
      "outputs": [
        {
          "output_type": "stream",
          "name": "stdout",
          "text": [
            "DataFrame without index and columns:\n",
            "     0   1   2\n",
            "0  95  11  81\n",
            "1  70  63  87\n",
            "2  75   9  77\n",
            "3  40   4  63\n"
          ]
        }
      ]
    },
    {
      "cell_type": "code",
      "source": [
        "# Creating DataFrame with custom index\n",
        "df = pd.DataFrame(data=mydata, index=myindex)\n",
        "print(\"DataFrame with custom index:\\n\", df)"
      ],
      "metadata": {
        "colab": {
          "base_uri": "https://localhost:8080/"
        },
        "id": "Kb6sllW6YNJN",
        "outputId": "4399a0e4-774e-43da-f422-3d2ad8272d2e"
      },
      "execution_count": null,
      "outputs": [
        {
          "output_type": "stream",
          "name": "stdout",
          "text": [
            "DataFrame with custom index:\n",
            "      0   1   2\n",
            "CA  95  11  81\n",
            "NY  70  63  87\n",
            "AZ  75   9  77\n",
            "TX  40   4  63\n"
          ]
        }
      ]
    },
    {
      "cell_type": "code",
      "source": [
        "# Creating DataFrame with custom index and custom column names\n",
        "df = pd.DataFrame(data=mydata, index=myindex, columns=mycolumns)\n",
        "print(\"DataFrame with custom index and column names:\\n\", df)\n"
      ],
      "metadata": {
        "colab": {
          "base_uri": "https://localhost:8080/"
        },
        "id": "pUN0VCoXYXUE",
        "outputId": "5fcd72f0-1137-4aec-a6f5-2dd62f369f53"
      },
      "execution_count": null,
      "outputs": [
        {
          "output_type": "stream",
          "name": "stdout",
          "text": [
            "DataFrame with custom index and column names:\n",
            "     Jan  Feb  Mar\n",
            "CA   95   11   81\n",
            "NY   70   63   87\n",
            "AZ   75    9   77\n",
            "TX   40    4   63\n"
          ]
        }
      ]
    },
    {
      "cell_type": "code",
      "source": [
        "# Displaying information about dataFrame\n",
        "print(\"DataFrame information:\\n\", df.info())"
      ],
      "metadata": {
        "colab": {
          "base_uri": "https://localhost:8080/"
        },
        "id": "W0nMUqb2YomA",
        "outputId": "36e3dc56-0fc5-4cf6-c262-2ffcd616a303"
      },
      "execution_count": null,
      "outputs": [
        {
          "output_type": "stream",
          "name": "stdout",
          "text": [
            "<class 'pandas.core.frame.DataFrame'>\n",
            "Index: 4 entries, CA to TX\n",
            "Data columns (total 3 columns):\n",
            " #   Column  Non-Null Count  Dtype\n",
            "---  ------  --------------  -----\n",
            " 0   Jan     4 non-null      int64\n",
            " 1   Feb     4 non-null      int64\n",
            " 2   Mar     4 non-null      int64\n",
            "dtypes: int64(3)\n",
            "memory usage: 128.0+ bytes\n",
            "DataFrame information:\n",
            " None\n"
          ]
        }
      ]
    },
    {
      "cell_type": "code",
      "source": [
        "# Create a DataFrame from a CSV file\n",
        "df = pd.read_csv('tips.csv')\n",
        "print(\"DataFrame from CSV file:\\n\", df)"
      ],
      "metadata": {
        "colab": {
          "base_uri": "https://localhost:8080/"
        },
        "id": "FOj4fyk4ZBEt",
        "outputId": "fd93b5d9-2835-4170-cfbc-9922581a9b14"
      },
      "execution_count": null,
      "outputs": [
        {
          "output_type": "stream",
          "name": "stdout",
          "text": [
            "DataFrame from CSV file:\n",
            "      total_bill   tip  gender smoker   day    time  size  price_per_person  \\\n",
            "0         16.99  1.01  Female     No   Sun  Dinner     2              8.49   \n",
            "1         10.34  1.66    Male     No   Sun  Dinner     3              3.45   \n",
            "2         21.01  3.50    Male     No   Sun  Dinner     3              7.00   \n",
            "3         23.68  3.31    Male     No   Sun  Dinner     2             11.84   \n",
            "4         24.59  3.61  Female     No   Sun  Dinner     4              6.15   \n",
            "..          ...   ...     ...    ...   ...     ...   ...               ...   \n",
            "239       29.03  5.92    Male     No   Sat  Dinner     3              9.68   \n",
            "240       27.18  2.00  Female    Yes   Sat  Dinner     2             13.59   \n",
            "241       22.67  2.00    Male    Yes   Sat  Dinner     2             11.34   \n",
            "242       17.82  1.75    Male     No   Sat  Dinner     2              8.91   \n",
            "243       18.78  3.00  Female     No  Thur  Dinner     2              9.39   \n",
            "\n",
            "             Payer Name     CC Number Payment ID  \n",
            "0    Christy Cunningham  3.560330e+15    Sun2959  \n",
            "1        Douglas Tucker  4.478070e+15    Sun4608  \n",
            "2        Travis Walters  6.011810e+15    Sun4458  \n",
            "3      Nathaniel Harris  4.676140e+15    Sun5260  \n",
            "4          Tonya Carter  4.832730e+15    Sun2251  \n",
            "..                  ...           ...        ...  \n",
            "239       Michael Avila  5.296070e+15    Sat2657  \n",
            "240      Monica Sanders  3.506810e+15    Sat1766  \n",
            "241          Keith Wong  6.011890e+15    Sat3880  \n",
            "242        Dennis Dixon  4.375220e+12      Sat17  \n",
            "243     Michelle Hardin  3.511450e+15    Thur672  \n",
            "\n",
            "[244 rows x 11 columns]\n"
          ]
        }
      ]
    },
    {
      "cell_type": "code",
      "source": [
        "print(\"Columns are:\\n\", df.columns)\n",
        "print(\"\\nIndex are:\\n\", df.index)\n",
        "print(df.head(2))\n",
        "print(df.tail(3))\n",
        "print(\"\\nTranspose of df is :\\n\", df.describe().transpose())"
      ],
      "metadata": {
        "colab": {
          "base_uri": "https://localhost:8080/"
        },
        "id": "RxtN8QjxZI-l",
        "outputId": "195e7faf-a269-498d-c75b-5ee64f1beee5"
      },
      "execution_count": null,
      "outputs": [
        {
          "output_type": "stream",
          "name": "stdout",
          "text": [
            "Columns are:\n",
            " Index(['total_bill', 'tip', 'gender', 'smoker', 'day', 'time', 'size',\n",
            "       'price_per_person', 'Payer Name', 'CC Number', 'Payment ID'],\n",
            "      dtype='object')\n",
            "\n",
            "Index are:\n",
            " RangeIndex(start=0, stop=244, step=1)\n",
            "   total_bill   tip  gender smoker  day    time  size  price_per_person  \\\n",
            "0       16.99  1.01  Female     No  Sun  Dinner     2              8.49   \n",
            "1       10.34  1.66    Male     No  Sun  Dinner     3              3.45   \n",
            "\n",
            "           Payer Name     CC Number Payment ID  \n",
            "0  Christy Cunningham  3.560330e+15    Sun2959  \n",
            "1      Douglas Tucker  4.478070e+15    Sun4608  \n",
            "     total_bill   tip  gender smoker   day    time  size  price_per_person  \\\n",
            "241       22.67  2.00    Male    Yes   Sat  Dinner     2             11.34   \n",
            "242       17.82  1.75    Male     No   Sat  Dinner     2              8.91   \n",
            "243       18.78  3.00  Female     No  Thur  Dinner     2              9.39   \n",
            "\n",
            "          Payer Name     CC Number Payment ID  \n",
            "241       Keith Wong  6.011890e+15    Sat3880  \n",
            "242     Dennis Dixon  4.375220e+12      Sat17  \n",
            "243  Michelle Hardin  3.511450e+15    Thur672  \n",
            "\n",
            "Transpose of df is :\n",
            "                   count          mean           std           min  \\\n",
            "total_bill        244.0  1.978594e+01  8.902412e+00  3.070000e+00   \n",
            "tip               244.0  2.998279e+00  1.383638e+00  1.000000e+00   \n",
            "size              244.0  2.569672e+00  9.510998e-01  1.000000e+00   \n",
            "price_per_person  244.0  7.888197e+00  2.914234e+00  2.880000e+00   \n",
            "CC Number         244.0  2.563495e+15  2.369340e+15  6.040679e+10   \n",
            "\n",
            "                           25%           50%           75%           max  \n",
            "total_bill        1.334750e+01  1.779500e+01  2.412750e+01  5.081000e+01  \n",
            "tip               2.000000e+00  2.900000e+00  3.562500e+00  1.000000e+01  \n",
            "size              2.000000e+00  2.000000e+00  3.000000e+00  6.000000e+00  \n",
            "price_per_person  5.800000e+00  7.255000e+00  9.390000e+00  2.027000e+01  \n",
            "CC Number         3.040732e+13  3.525320e+15  4.553675e+15  6.596450e+15  \n"
          ]
        }
      ]
    },
    {
      "cell_type": "markdown",
      "source": [
        "# Column Selection and indexing"
      ],
      "metadata": {
        "id": "33b85VyqavW1"
      }
    },
    {
      "cell_type": "code",
      "source": [
        "# Selecting a single column\n",
        "print(df['total_bill'])\n",
        "print(type(df['total_bill']))"
      ],
      "metadata": {
        "colab": {
          "base_uri": "https://localhost:8080/"
        },
        "id": "cSNiBqhVZbAH",
        "outputId": "061ffa65-e62f-4336-f4c0-67aa4e68fda9"
      },
      "execution_count": null,
      "outputs": [
        {
          "output_type": "stream",
          "name": "stdout",
          "text": [
            "0      16.99\n",
            "1      10.34\n",
            "2      21.01\n",
            "3      23.68\n",
            "4      24.59\n",
            "       ...  \n",
            "239    29.03\n",
            "240    27.18\n",
            "241    22.67\n",
            "242    17.82\n",
            "243    18.78\n",
            "Name: total_bill, Length: 244, dtype: float64\n",
            "<class 'pandas.core.series.Series'>\n"
          ]
        }
      ]
    },
    {
      "cell_type": "code",
      "source": [
        "# Selecting multiple columns ( use a list of column names)\n",
        "print(df[['total_bill', 'tip']])\n",
        "print(type(df[['total_bill', 'tip']]))"
      ],
      "metadata": {
        "colab": {
          "base_uri": "https://localhost:8080/"
        },
        "id": "I6p15f6zaijd",
        "outputId": "821b041d-3569-4e06-bdac-a69cc3415002"
      },
      "execution_count": null,
      "outputs": [
        {
          "output_type": "stream",
          "name": "stdout",
          "text": [
            "     total_bill   tip\n",
            "0         16.99  1.01\n",
            "1         10.34  1.66\n",
            "2         21.01  3.50\n",
            "3         23.68  3.31\n",
            "4         24.59  3.61\n",
            "..          ...   ...\n",
            "239       29.03  5.92\n",
            "240       27.18  2.00\n",
            "241       22.67  2.00\n",
            "242       17.82  1.75\n",
            "243       18.78  3.00\n",
            "\n",
            "[244 rows x 2 columns]\n",
            "<class 'pandas.core.frame.DataFrame'>\n"
          ]
        }
      ]
    },
    {
      "cell_type": "code",
      "source": [
        "# Create new columns based on existing ones\n",
        "df['tip_percentage'] = 100 * df['tip'] / df['total_bill']\n",
        "df['price_per_person'] = df['total_bill'] / df['size']\n",
        "print(df.head())"
      ],
      "metadata": {
        "colab": {
          "base_uri": "https://localhost:8080/"
        },
        "id": "6OSPmXEUarJL",
        "outputId": "2ae6ac77-7eac-46a3-b14d-f8812867ba63"
      },
      "execution_count": null,
      "outputs": [
        {
          "output_type": "stream",
          "name": "stdout",
          "text": [
            "   total_bill   tip  gender smoker  day    time  size  price_per_person  \\\n",
            "0       16.99  1.01  Female     No  Sun  Dinner     2          8.495000   \n",
            "1       10.34  1.66    Male     No  Sun  Dinner     3          3.446667   \n",
            "2       21.01  3.50    Male     No  Sun  Dinner     3          7.003333   \n",
            "3       23.68  3.31    Male     No  Sun  Dinner     2         11.840000   \n",
            "4       24.59  3.61  Female     No  Sun  Dinner     4          6.147500   \n",
            "\n",
            "           Payer Name     CC Number Payment ID  tip_percentage  \n",
            "0  Christy Cunningham  3.560330e+15    Sun2959        5.944673  \n",
            "1      Douglas Tucker  4.478070e+15    Sun4608       16.054159  \n",
            "2      Travis Walters  6.011810e+15    Sun4458       16.658734  \n",
            "3    Nathaniel Harris  4.676140e+15    Sun5260       13.978041  \n",
            "4        Tonya Carter  4.832730e+15    Sun2251       14.680765  \n"
          ]
        }
      ]
    },
    {
      "cell_type": "code",
      "source": [
        "# Adjust the 'price_per_person' column by rounding it to 2 decimal places\n",
        "df['price_per_person'] = np.round(df['price_per_person'],2)\n",
        "print(df.head())"
      ],
      "metadata": {
        "colab": {
          "base_uri": "https://localhost:8080/"
        },
        "id": "46fLOt8sbSc3",
        "outputId": "cfeb65b1-b36d-4acd-82ba-ba9919db1ac0"
      },
      "execution_count": null,
      "outputs": [
        {
          "output_type": "stream",
          "name": "stdout",
          "text": [
            "   total_bill   tip  gender smoker  day    time  size  price_per_person  \\\n",
            "0       16.99  1.01  Female     No  Sun  Dinner     2              8.49   \n",
            "1       10.34  1.66    Male     No  Sun  Dinner     3              3.45   \n",
            "2       21.01  3.50    Male     No  Sun  Dinner     3              7.00   \n",
            "3       23.68  3.31    Male     No  Sun  Dinner     2             11.84   \n",
            "4       24.59  3.61  Female     No  Sun  Dinner     4              6.15   \n",
            "\n",
            "           Payer Name     CC Number Payment ID  tip_percentage  \n",
            "0  Christy Cunningham  3.560330e+15    Sun2959        5.944673  \n",
            "1      Douglas Tucker  4.478070e+15    Sun4608       16.054159  \n",
            "2      Travis Walters  6.011810e+15    Sun4458       16.658734  \n",
            "3    Nathaniel Harris  4.676140e+15    Sun5260       13.978041  \n",
            "4        Tonya Carter  4.832730e+15    Sun2251       14.680765  \n"
          ]
        }
      ]
    },
    {
      "cell_type": "code",
      "source": [
        "# Remove the 'tip_percentage' column\n",
        "df = df.drop('tip_percentage', axis=1)\n",
        "print(df.head())"
      ],
      "metadata": {
        "colab": {
          "base_uri": "https://localhost:8080/"
        },
        "id": "CuI9Y-6dbta9",
        "outputId": "22183d19-67c7-4ac1-b1cf-60b8ac19599e"
      },
      "execution_count": null,
      "outputs": [
        {
          "output_type": "stream",
          "name": "stdout",
          "text": [
            "   total_bill   tip  gender smoker  day    time  size  price_per_person  \\\n",
            "0       16.99  1.01  Female     No  Sun  Dinner     2              8.49   \n",
            "1       10.34  1.66    Male     No  Sun  Dinner     3              3.45   \n",
            "2       21.01  3.50    Male     No  Sun  Dinner     3              7.00   \n",
            "3       23.68  3.31    Male     No  Sun  Dinner     2             11.84   \n",
            "4       24.59  3.61  Female     No  Sun  Dinner     4              6.15   \n",
            "\n",
            "           Payer Name     CC Number Payment ID  \n",
            "0  Christy Cunningham  3.560330e+15    Sun2959  \n",
            "1      Douglas Tucker  4.478070e+15    Sun4608  \n",
            "2      Travis Walters  6.011810e+15    Sun4458  \n",
            "3    Nathaniel Harris  4.676140e+15    Sun5260  \n",
            "4        Tonya Carter  4.832730e+15    Sun2251  \n"
          ]
        }
      ]
    },
    {
      "cell_type": "code",
      "source": [
        "# Show all columns in the display\n",
        "pd.set_option('display.max_columns', None)\n",
        "pd.set_option('display.max_rows', None)\n",
        "print(df)"
      ],
      "metadata": {
        "colab": {
          "base_uri": "https://localhost:8080/"
        },
        "id": "4nivhV1eb4QT",
        "outputId": "f0bb78cf-25a8-44d9-c5d0-07b12ceb9079"
      },
      "execution_count": null,
      "outputs": [
        {
          "output_type": "stream",
          "name": "stdout",
          "text": [
            "     total_bill    tip  gender smoker   day    time  size  price_per_person  \\\n",
            "0         16.99   1.01  Female     No   Sun  Dinner     2              8.49   \n",
            "1         10.34   1.66    Male     No   Sun  Dinner     3              3.45   \n",
            "2         21.01   3.50    Male     No   Sun  Dinner     3              7.00   \n",
            "3         23.68   3.31    Male     No   Sun  Dinner     2             11.84   \n",
            "4         24.59   3.61  Female     No   Sun  Dinner     4              6.15   \n",
            "5         25.29   4.71    Male     No   Sun  Dinner     4              6.32   \n",
            "6          8.77   2.00    Male     No   Sun  Dinner     2              4.38   \n",
            "7         26.88   3.12    Male     No   Sun  Dinner     4              6.72   \n",
            "8         15.04   1.96    Male     No   Sun  Dinner     2              7.52   \n",
            "9         14.78   3.23    Male     No   Sun  Dinner     2              7.39   \n",
            "10        10.27   1.71    Male     No   Sun  Dinner     2              5.14   \n",
            "11        35.26   5.00  Female     No   Sun  Dinner     4              8.82   \n",
            "12        15.42   1.57    Male     No   Sun  Dinner     2              7.71   \n",
            "13        18.43   3.00    Male     No   Sun  Dinner     4              4.61   \n",
            "14        14.83   3.02  Female     No   Sun  Dinner     2              7.42   \n",
            "15        21.58   3.92    Male     No   Sun  Dinner     2             10.79   \n",
            "16        10.33   1.67  Female     No   Sun  Dinner     3              3.44   \n",
            "17        16.29   3.71    Male     No   Sun  Dinner     3              5.43   \n",
            "18        16.97   3.50  Female     No   Sun  Dinner     3              5.66   \n",
            "19        20.65   3.35    Male     No   Sat  Dinner     3              6.88   \n",
            "20        17.92   4.08    Male     No   Sat  Dinner     2              8.96   \n",
            "21        20.29   2.75  Female     No   Sat  Dinner     2             10.14   \n",
            "22        15.77   2.23  Female     No   Sat  Dinner     2              7.88   \n",
            "23        39.42   7.58    Male     No   Sat  Dinner     4              9.86   \n",
            "24        19.82   3.18    Male     No   Sat  Dinner     2              9.91   \n",
            "25        17.81   2.34    Male     No   Sat  Dinner     4              4.45   \n",
            "26        13.37   2.00    Male     No   Sat  Dinner     2              6.68   \n",
            "27        12.69   2.00    Male     No   Sat  Dinner     2              6.34   \n",
            "28        21.70   4.30    Male     No   Sat  Dinner     2             10.85   \n",
            "29        19.65   3.00  Female     No   Sat  Dinner     2              9.82   \n",
            "30         9.55   1.45    Male     No   Sat  Dinner     2              4.78   \n",
            "31        18.35   2.50    Male     No   Sat  Dinner     4              4.59   \n",
            "32        15.06   3.00  Female     No   Sat  Dinner     2              7.53   \n",
            "33        20.69   2.45  Female     No   Sat  Dinner     4              5.17   \n",
            "34        17.78   3.27    Male     No   Sat  Dinner     2              8.89   \n",
            "35        24.06   3.60    Male     No   Sat  Dinner     3              8.02   \n",
            "36        16.31   2.00    Male     No   Sat  Dinner     3              5.44   \n",
            "37        16.93   3.07  Female     No   Sat  Dinner     3              5.64   \n",
            "38        18.69   2.31    Male     No   Sat  Dinner     3              6.23   \n",
            "39        31.27   5.00    Male     No   Sat  Dinner     3             10.42   \n",
            "40        16.04   2.24    Male     No   Sat  Dinner     3              5.35   \n",
            "41        17.46   2.54    Male     No   Sun  Dinner     2              8.73   \n",
            "42        13.94   3.06    Male     No   Sun  Dinner     2              6.97   \n",
            "43         9.68   1.32    Male     No   Sun  Dinner     2              4.84   \n",
            "44        30.40   5.60    Male     No   Sun  Dinner     4              7.60   \n",
            "45        18.29   3.00    Male     No   Sun  Dinner     2              9.14   \n",
            "46        22.23   5.00    Male     No   Sun  Dinner     2             11.12   \n",
            "47        32.40   6.00    Male     No   Sun  Dinner     4              8.10   \n",
            "48        28.55   2.05    Male     No   Sun  Dinner     3              9.52   \n",
            "49        18.04   3.00    Male     No   Sun  Dinner     2              9.02   \n",
            "50        12.54   2.50    Male     No   Sun  Dinner     2              6.27   \n",
            "51        10.29   2.60  Female     No   Sun  Dinner     2              5.14   \n",
            "52        34.81   5.20  Female     No   Sun  Dinner     4              8.70   \n",
            "53         9.94   1.56    Male     No   Sun  Dinner     2              4.97   \n",
            "54        25.56   4.34    Male     No   Sun  Dinner     4              6.39   \n",
            "55        19.49   3.51    Male     No   Sun  Dinner     2              9.74   \n",
            "56        38.01   3.00    Male    Yes   Sat  Dinner     4              9.50   \n",
            "57        26.41   1.50  Female     No   Sat  Dinner     2             13.20   \n",
            "58        11.24   1.76    Male    Yes   Sat  Dinner     2              5.62   \n",
            "59        48.27   6.73    Male     No   Sat  Dinner     4             12.07   \n",
            "60        20.29   3.21    Male    Yes   Sat  Dinner     2             10.14   \n",
            "61        13.81   2.00    Male    Yes   Sat  Dinner     2              6.90   \n",
            "62        11.02   1.98    Male    Yes   Sat  Dinner     2              5.51   \n",
            "63        18.29   3.76    Male    Yes   Sat  Dinner     4              4.57   \n",
            "64        17.59   2.64    Male     No   Sat  Dinner     3              5.86   \n",
            "65        20.08   3.15    Male     No   Sat  Dinner     3              6.69   \n",
            "66        16.45   2.47  Female     No   Sat  Dinner     2              8.22   \n",
            "67         3.07   1.00  Female    Yes   Sat  Dinner     1              3.07   \n",
            "68        20.23   2.01    Male     No   Sat  Dinner     2             10.12   \n",
            "69        15.01   2.09    Male    Yes   Sat  Dinner     2              7.50   \n",
            "70        12.02   1.97    Male     No   Sat  Dinner     2              6.01   \n",
            "71        17.07   3.00  Female     No   Sat  Dinner     3              5.69   \n",
            "72        26.86   3.14  Female    Yes   Sat  Dinner     2             13.43   \n",
            "73        25.28   5.00  Female    Yes   Sat  Dinner     2             12.64   \n",
            "74        14.73   2.20  Female     No   Sat  Dinner     2              7.36   \n",
            "75        10.51   1.25    Male     No   Sat  Dinner     2              5.26   \n",
            "76        17.92   3.08    Male    Yes   Sat  Dinner     2              8.96   \n",
            "77        27.20   4.00    Male     No  Thur   Lunch     4              6.80   \n",
            "78        22.76   3.00    Male     No  Thur   Lunch     2             11.38   \n",
            "79        17.29   2.71    Male     No  Thur   Lunch     2              8.64   \n",
            "80        19.44   3.00    Male    Yes  Thur   Lunch     2              9.72   \n",
            "81        16.66   3.40    Male     No  Thur   Lunch     2              8.33   \n",
            "82        10.07   1.83  Female     No  Thur   Lunch     1             10.07   \n",
            "83        32.68   5.00    Male    Yes  Thur   Lunch     2             16.34   \n",
            "84        15.98   2.03    Male     No  Thur   Lunch     2              7.99   \n",
            "85        34.83   5.17  Female     No  Thur   Lunch     4              8.71   \n",
            "86        13.03   2.00    Male     No  Thur   Lunch     2              6.52   \n",
            "87        18.28   4.00    Male     No  Thur   Lunch     2              9.14   \n",
            "88        24.71   5.85    Male     No  Thur   Lunch     2             12.36   \n",
            "89        21.16   3.00    Male     No  Thur   Lunch     2             10.58   \n",
            "90        28.97   3.00    Male    Yes   Fri  Dinner     2             14.48   \n",
            "91        22.49   3.50    Male     No   Fri  Dinner     2             11.24   \n",
            "92         5.75   1.00  Female    Yes   Fri  Dinner     2              2.88   \n",
            "93        16.32   4.30  Female    Yes   Fri  Dinner     2              8.16   \n",
            "94        22.75   3.25  Female     No   Fri  Dinner     2             11.38   \n",
            "95        40.17   4.73    Male    Yes   Fri  Dinner     4             10.04   \n",
            "96        27.28   4.00    Male    Yes   Fri  Dinner     2             13.64   \n",
            "97        12.03   1.50    Male    Yes   Fri  Dinner     2              6.02   \n",
            "98        21.01   3.00    Male    Yes   Fri  Dinner     2             10.50   \n",
            "99        12.46   1.50    Male     No   Fri  Dinner     2              6.23   \n",
            "100       11.35   2.50  Female    Yes   Fri  Dinner     2              5.68   \n",
            "101       15.38   3.00  Female    Yes   Fri  Dinner     2              7.69   \n",
            "102       44.30   2.50  Female    Yes   Sat  Dinner     3             14.77   \n",
            "103       22.42   3.48  Female    Yes   Sat  Dinner     2             11.21   \n",
            "104       20.92   4.08  Female     No   Sat  Dinner     2             10.46   \n",
            "105       15.36   1.64    Male    Yes   Sat  Dinner     2              7.68   \n",
            "106       20.49   4.06    Male    Yes   Sat  Dinner     2             10.24   \n",
            "107       25.21   4.29    Male    Yes   Sat  Dinner     2             12.60   \n",
            "108       18.24   3.76    Male     No   Sat  Dinner     2              9.12   \n",
            "109       14.31   4.00  Female    Yes   Sat  Dinner     2              7.16   \n",
            "110       14.00   3.00    Male     No   Sat  Dinner     2              7.00   \n",
            "111        7.25   1.00  Female     No   Sat  Dinner     1              7.25   \n",
            "112       38.07   4.00    Male     No   Sun  Dinner     3             12.69   \n",
            "113       23.95   2.55    Male     No   Sun  Dinner     2             11.98   \n",
            "114       25.71   4.00  Female     No   Sun  Dinner     3              8.57   \n",
            "115       17.31   3.50  Female     No   Sun  Dinner     2              8.65   \n",
            "116       29.93   5.07    Male     No   Sun  Dinner     4              7.48   \n",
            "117       10.65   1.50  Female     No  Thur   Lunch     2              5.32   \n",
            "118       12.43   1.80  Female     No  Thur   Lunch     2              6.22   \n",
            "119       24.08   2.92  Female     No  Thur   Lunch     4              6.02   \n",
            "120       11.69   2.31    Male     No  Thur   Lunch     2              5.84   \n",
            "121       13.42   1.68  Female     No  Thur   Lunch     2              6.71   \n",
            "122       14.26   2.50    Male     No  Thur   Lunch     2              7.13   \n",
            "123       15.95   2.00    Male     No  Thur   Lunch     2              7.98   \n",
            "124       12.48   2.52  Female     No  Thur   Lunch     2              6.24   \n",
            "125       29.80   4.20  Female     No  Thur   Lunch     6              4.97   \n",
            "126        8.52   1.48    Male     No  Thur   Lunch     2              4.26   \n",
            "127       14.52   2.00  Female     No  Thur   Lunch     2              7.26   \n",
            "128       11.38   2.00  Female     No  Thur   Lunch     2              5.69   \n",
            "129       22.82   2.18    Male     No  Thur   Lunch     3              7.61   \n",
            "130       19.08   1.50    Male     No  Thur   Lunch     2              9.54   \n",
            "131       20.27   2.83  Female     No  Thur   Lunch     2             10.14   \n",
            "132       11.17   1.50  Female     No  Thur   Lunch     2              5.58   \n",
            "133       12.26   2.00  Female     No  Thur   Lunch     2              6.13   \n",
            "134       18.26   3.25  Female     No  Thur   Lunch     2              9.13   \n",
            "135        8.51   1.25  Female     No  Thur   Lunch     2              4.26   \n",
            "136       10.33   2.00  Female     No  Thur   Lunch     2              5.16   \n",
            "137       14.15   2.00  Female     No  Thur   Lunch     2              7.08   \n",
            "138       16.00   2.00    Male    Yes  Thur   Lunch     2              8.00   \n",
            "139       13.16   2.75  Female     No  Thur   Lunch     2              6.58   \n",
            "140       17.47   3.50  Female     No  Thur   Lunch     2              8.74   \n",
            "141       34.30   6.70    Male     No  Thur   Lunch     6              5.72   \n",
            "142       41.19   5.00    Male     No  Thur   Lunch     5              8.24   \n",
            "143       27.05   5.00  Female     No  Thur   Lunch     6              4.51   \n",
            "144       16.43   2.30  Female     No  Thur   Lunch     2              8.22   \n",
            "145        8.35   1.50  Female     No  Thur   Lunch     2              4.18   \n",
            "146       18.64   1.36  Female     No  Thur   Lunch     3              6.21   \n",
            "147       11.87   1.63  Female     No  Thur   Lunch     2              5.94   \n",
            "148        9.78   1.73    Male     No  Thur   Lunch     2              4.89   \n",
            "149        7.51   2.00    Male     No  Thur   Lunch     2              3.76   \n",
            "150       14.07   2.50    Male     No   Sun  Dinner     2              7.04   \n",
            "151       13.13   2.00    Male     No   Sun  Dinner     2              6.56   \n",
            "152       17.26   2.74    Male     No   Sun  Dinner     3              5.75   \n",
            "153       24.55   2.00    Male     No   Sun  Dinner     4              6.14   \n",
            "154       19.77   2.00    Male     No   Sun  Dinner     4              4.94   \n",
            "155       29.85   5.14  Female     No   Sun  Dinner     5              5.97   \n",
            "156       48.17   5.00    Male     No   Sun  Dinner     6              8.03   \n",
            "157       25.00   3.75  Female     No   Sun  Dinner     4              6.25   \n",
            "158       13.39   2.61  Female     No   Sun  Dinner     2              6.70   \n",
            "159       16.49   2.00    Male     No   Sun  Dinner     4              4.12   \n",
            "160       21.50   3.50    Male     No   Sun  Dinner     4              5.38   \n",
            "161       12.66   2.50    Male     No   Sun  Dinner     2              6.33   \n",
            "162       16.21   2.00  Female     No   Sun  Dinner     3              5.40   \n",
            "163       13.81   2.00    Male     No   Sun  Dinner     2              6.90   \n",
            "164       17.51   3.00  Female    Yes   Sun  Dinner     2              8.76   \n",
            "165       24.52   3.48    Male     No   Sun  Dinner     3              8.17   \n",
            "166       20.76   2.24    Male     No   Sun  Dinner     2             10.38   \n",
            "167       31.71   4.50    Male     No   Sun  Dinner     4              7.93   \n",
            "168       10.59   1.61  Female    Yes   Sat  Dinner     2              5.30   \n",
            "169       10.63   2.00  Female    Yes   Sat  Dinner     2              5.32   \n",
            "170       50.81  10.00    Male    Yes   Sat  Dinner     3             16.94   \n",
            "171       15.81   3.16    Male    Yes   Sat  Dinner     2              7.90   \n",
            "172        7.25   5.15    Male    Yes   Sun  Dinner     2              3.62   \n",
            "173       31.85   3.18    Male    Yes   Sun  Dinner     2             15.92   \n",
            "174       16.82   4.00    Male    Yes   Sun  Dinner     2              8.41   \n",
            "175       32.90   3.11    Male    Yes   Sun  Dinner     2             16.45   \n",
            "176       17.89   2.00    Male    Yes   Sun  Dinner     2              8.94   \n",
            "177       14.48   2.00    Male    Yes   Sun  Dinner     2              7.24   \n",
            "178        9.60   4.00  Female    Yes   Sun  Dinner     2              4.80   \n",
            "179       34.63   3.55    Male    Yes   Sun  Dinner     2             17.32   \n",
            "180       34.65   3.68    Male    Yes   Sun  Dinner     4              8.66   \n",
            "181       23.33   5.65    Male    Yes   Sun  Dinner     2             11.66   \n",
            "182       45.35   3.50    Male    Yes   Sun  Dinner     3             15.12   \n",
            "183       23.17   6.50    Male    Yes   Sun  Dinner     4              5.79   \n",
            "184       40.55   3.00    Male    Yes   Sun  Dinner     2             20.27   \n",
            "185       20.69   5.00    Male     No   Sun  Dinner     5              4.14   \n",
            "186       20.90   3.50  Female    Yes   Sun  Dinner     3              6.97   \n",
            "187       30.46   2.00    Male    Yes   Sun  Dinner     5              6.09   \n",
            "188       18.15   3.50  Female    Yes   Sun  Dinner     3              6.05   \n",
            "189       23.10   4.00    Male    Yes   Sun  Dinner     3              7.70   \n",
            "190       15.69   1.50    Male    Yes   Sun  Dinner     2              7.84   \n",
            "191       19.81   4.19  Female    Yes  Thur   Lunch     2              9.90   \n",
            "192       28.44   2.56    Male    Yes  Thur   Lunch     2             14.22   \n",
            "193       15.48   2.02    Male    Yes  Thur   Lunch     2              7.74   \n",
            "194       16.58   4.00    Male    Yes  Thur   Lunch     2              8.29   \n",
            "195        7.56   1.44    Male     No  Thur   Lunch     2              3.78   \n",
            "196       10.34   2.00    Male    Yes  Thur   Lunch     2              5.17   \n",
            "197       43.11   5.00  Female    Yes  Thur   Lunch     4             10.78   \n",
            "198       13.00   2.00  Female    Yes  Thur   Lunch     2              6.50   \n",
            "199       13.51   2.00    Male    Yes  Thur   Lunch     2              6.76   \n",
            "200       18.71   4.00    Male    Yes  Thur   Lunch     3              6.24   \n",
            "201       12.74   2.01  Female    Yes  Thur   Lunch     2              6.37   \n",
            "202       13.00   2.00  Female    Yes  Thur   Lunch     2              6.50   \n",
            "203       16.40   2.50  Female    Yes  Thur   Lunch     2              8.20   \n",
            "204       20.53   4.00    Male    Yes  Thur   Lunch     4              5.13   \n",
            "205       16.47   3.23  Female    Yes  Thur   Lunch     3              5.49   \n",
            "206       26.59   3.41    Male    Yes   Sat  Dinner     3              8.86   \n",
            "207       38.73   3.00    Male    Yes   Sat  Dinner     4              9.68   \n",
            "208       24.27   2.03    Male    Yes   Sat  Dinner     2             12.14   \n",
            "209       12.76   2.23  Female    Yes   Sat  Dinner     2              6.38   \n",
            "210       30.06   2.00    Male    Yes   Sat  Dinner     3             10.02   \n",
            "211       25.89   5.16    Male    Yes   Sat  Dinner     4              6.47   \n",
            "212       48.33   9.00    Male     No   Sat  Dinner     4             12.08   \n",
            "213       13.27   2.50  Female    Yes   Sat  Dinner     2              6.64   \n",
            "214       28.17   6.50  Female    Yes   Sat  Dinner     3              9.39   \n",
            "215       12.90   1.10  Female    Yes   Sat  Dinner     2              6.45   \n",
            "216       28.15   3.00    Male    Yes   Sat  Dinner     5              5.63   \n",
            "217       11.59   1.50    Male    Yes   Sat  Dinner     2              5.80   \n",
            "218        7.74   1.44    Male    Yes   Sat  Dinner     2              3.87   \n",
            "219       30.14   3.09  Female    Yes   Sat  Dinner     4              7.54   \n",
            "220       12.16   2.20    Male    Yes   Fri   Lunch     2              6.08   \n",
            "221       13.42   3.48  Female    Yes   Fri   Lunch     2              6.71   \n",
            "222        8.58   1.92    Male    Yes   Fri   Lunch     1              8.58   \n",
            "223       15.98   3.00  Female     No   Fri   Lunch     3              5.33   \n",
            "224       13.42   1.58    Male    Yes   Fri   Lunch     2              6.71   \n",
            "225       16.27   2.50  Female    Yes   Fri   Lunch     2              8.14   \n",
            "226       10.09   2.00  Female    Yes   Fri   Lunch     2              5.04   \n",
            "227       20.45   3.00    Male     No   Sat  Dinner     4              5.11   \n",
            "228       13.28   2.72    Male     No   Sat  Dinner     2              6.64   \n",
            "229       22.12   2.88  Female    Yes   Sat  Dinner     2             11.06   \n",
            "230       24.01   2.00    Male    Yes   Sat  Dinner     4              6.00   \n",
            "231       15.69   3.00    Male    Yes   Sat  Dinner     3              5.23   \n",
            "232       11.61   3.39    Male     No   Sat  Dinner     2              5.80   \n",
            "233       10.77   1.47    Male     No   Sat  Dinner     2              5.38   \n",
            "234       15.53   3.00    Male    Yes   Sat  Dinner     2              7.76   \n",
            "235       10.07   1.25    Male     No   Sat  Dinner     2              5.04   \n",
            "236       12.60   1.00    Male    Yes   Sat  Dinner     2              6.30   \n",
            "237       32.83   1.17    Male    Yes   Sat  Dinner     2             16.42   \n",
            "238       35.83   4.67  Female     No   Sat  Dinner     3             11.94   \n",
            "239       29.03   5.92    Male     No   Sat  Dinner     3              9.68   \n",
            "240       27.18   2.00  Female    Yes   Sat  Dinner     2             13.59   \n",
            "241       22.67   2.00    Male    Yes   Sat  Dinner     2             11.34   \n",
            "242       17.82   1.75    Male     No   Sat  Dinner     2              8.91   \n",
            "243       18.78   3.00  Female     No  Thur  Dinner     2              9.39   \n",
            "\n",
            "                Payer Name     CC Number Payment ID  \n",
            "0       Christy Cunningham  3.560330e+15    Sun2959  \n",
            "1           Douglas Tucker  4.478070e+15    Sun4608  \n",
            "2           Travis Walters  6.011810e+15    Sun4458  \n",
            "3         Nathaniel Harris  4.676140e+15    Sun5260  \n",
            "4             Tonya Carter  4.832730e+15    Sun2251  \n",
            "5               Erik Smith  2.131400e+14    Sun9679  \n",
            "6       Kristopher Johnson  2.223730e+15    Sun5985  \n",
            "7              Robert Buck  3.514790e+15    Sun8157  \n",
            "8          Joseph Mcdonald  3.522870e+15    Sun6820  \n",
            "9            Jerome Abbott  3.532120e+15    Sun3775  \n",
            "10           William Riley  5.662880e+11    Sun2546  \n",
            "11            Diane Macias  4.577820e+15    Sun6686  \n",
            "12         Chad Harrington  5.770410e+11    Sun1300  \n",
            "13            Joshua Jones  6.011160e+15    Sun2971  \n",
            "14           Vanessa Jones  3.001670e+13    Sun3848  \n",
            "15          Matthew Reilly  1.800730e+14    Sun1878  \n",
            "16        Elizabeth Foster  4.240030e+15    Sun9715  \n",
            "17            John Pittman  6.521340e+15    Sun2998  \n",
            "18          Laura Martinez  3.042230e+13    Sun2789  \n",
            "19           Timothy Oneal  6.568070e+15    Sat9213  \n",
            "20             Thomas Rice  4.403300e+15    Sat1709  \n",
            "21         Natalie Gardner  5.448130e+15    Sat9618  \n",
            "22          Ashley Shelton  3.524120e+15    Sat9786  \n",
            "23          Lance Peterson  3.542580e+15     Sat239  \n",
            "24        Christopher Ross  3.673910e+13    Sat6236  \n",
            "25          Robert Perkins  3.050290e+13     Sat907  \n",
            "26              Kyle Avery  6.531340e+15    Sat6651  \n",
            "27          Patrick Barber  3.015560e+13     Sat394  \n",
            "28           David Collier  5.529690e+15    Sat3697  \n",
            "29          Melinda Murphy  5.489270e+15    Sat2467  \n",
            "30              Grant Hall  3.019650e+13    Sat4099  \n",
            "31          Danny Santiago  6.304160e+11    Sat4947  \n",
            "32           Amanda Wilson  2.131860e+14    Sat1327  \n",
            "33           Amber Francis  3.777430e+14    Sat6649  \n",
            "34          Jacob Castillo  3.551490e+15    Sat8124  \n",
            "35          Joseph Mullins  5.519770e+15     Sat632  \n",
            "36            William Ford  3.527690e+15    Sat9139  \n",
            "37              Erin Lewis  5.161700e+15    Sat6406  \n",
            "38         Brandon Bradley  4.427600e+15    Sat4056  \n",
            "39       Mr. Brandon Berry  6.011530e+15    Sat6373  \n",
            "40            Adam Edwards  3.544450e+15    Sat8549  \n",
            "41             David Boyer  3.536680e+15    Sun9460  \n",
            "42             Bryan Brown  3.623120e+13    Sun1699  \n",
            "43      Christopher Spears  4.387670e+15    Sun3279  \n",
            "44             Todd Cooper  5.038470e+11    Sun2274  \n",
            "45      Richard Fitzgerald  3.751570e+14    Sun8643  \n",
            "46          Joshua Gilmore  4.292070e+12    Sun7097  \n",
            "47            James Barnes  3.552000e+15    Sun9677  \n",
            "48           Austin Fisher  6.011480e+15    Sun4142  \n",
            "49            William Roth  6.573920e+15    Sun9774  \n",
            "50           Jeremiah Neal  2.225400e+15    Sun2021  \n",
            "51          Jessica Ibarra  4.999760e+12    Sun4474  \n",
            "52            Emily Daniel  4.291280e+15    Sun6165  \n",
            "53           Curtis Morgan  4.628630e+15    Sun4561  \n",
            "54            Ronald Owens  6.569610e+15    Sun9470  \n",
            "55        Michael Hamilton  6.502230e+15    Sun1118  \n",
            "56   James Christensen DDS  3.497940e+14    Sat8903  \n",
            "57            Melody Simon  4.745390e+15    Sat8980  \n",
            "58           Troy Guerrero  3.560780e+15    Sat6683  \n",
            "59             Brian Ortiz  6.596450e+15    Sat8139  \n",
            "60          Anthony Mclean  3.476140e+14    Sat2353  \n",
            "61          Ryan Hernandez  4.766830e+12    Sat3030  \n",
            "62             Joseph Hart  1.800460e+14    Sat2265  \n",
            "63               Chad Hart  5.801710e+11    Sat4178  \n",
            "64         Michael Johnson  2.222110e+15    Sat1667  \n",
            "65            Justin Dixon  1.800210e+14    Sat6840  \n",
            "66           Rachel Vaughn  3.569260e+15    Sat4750  \n",
            "67           Tiffany Brock  4.359490e+15    Sat3455  \n",
            "68   Mr. Travis Bailey Jr.  6.040679e+10     Sat561  \n",
            "69               Adam Hall  4.700920e+15     Sat855  \n",
            "70               Max Brown  2.131400e+14    Sat2100  \n",
            "71           Teresa Fisher  5.442220e+15    Sat3469  \n",
            "72      Victoria Obrien MD  4.216250e+12    Sat1967  \n",
            "73            Julie Holmes  5.418690e+15    Sat6065  \n",
            "74           Ashley Harris  5.018290e+11    Sat6548  \n",
            "75           Kenneth Hayes  2.131420e+14    Sat5056  \n",
            "76              Mark Smith  6.761880e+11    Sat9908  \n",
            "77              John Davis  3.034480e+13   Thur4924  \n",
            "78              Chris Hahn  3.591890e+15   Thur2863  \n",
            "79              Brian Diaz  4.759290e+15   Thur9501  \n",
            "80            Louis Torres  3.884840e+13   Thur6453  \n",
            "81          William Martin  4.550550e+15   Thur8232  \n",
            "82             Julie Moody  6.304130e+11   Thur4909  \n",
            "83           Daniel Murphy  5.356180e+15   Thur8801  \n",
            "84             Jason Jones  4.442980e+15   Thur1944  \n",
            "85             Shawna Cook  6.011790e+15   Thur7972  \n",
            "86            Derek Thomas  2.131610e+14   Thur6793  \n",
            "87         Donald Williams  5.363750e+15   Thur3636  \n",
            "88            Roger Taylor  4.410250e+12   Thur9003  \n",
            "89             Keith Lewis  4.356010e+15   Thur6273  \n",
            "90            Daniel Mason  3.597460e+15    Fri4175  \n",
            "91               Earl Horn  6.011850e+15    Fri5700  \n",
            "92            Leah Ramirez  3.508910e+15    Fri3780  \n",
            "93          Natalie Nguyen  5.181240e+15    Fri6963  \n",
            "94             Jamie Garza  6.763180e+11    Fri2318  \n",
            "95           Aaron Bentley  1.800270e+14    Fri9628  \n",
            "96             Eric Carter  4.563050e+15    Fri3159  \n",
            "97            Eric Herrera  5.801160e+11    Fri9268  \n",
            "98              Michael Li  4.831800e+15     Fri144  \n",
            "99           Edward Carter  3.474360e+14    Fri5575  \n",
            "100             Lori Lynch  3.855830e+13    Fri4106  \n",
            "101          Tiffany Colon  6.011010e+15    Fri8382  \n",
            "102          Heather Cohen  3.797710e+14    Sat6240  \n",
            "103       Kathleen Hawkins  3.480100e+14    Sat1015  \n",
            "104    Gabrielle Frederick  4.013010e+15    Sat3194  \n",
            "105            David Price  4.029960e+12    Sat5106  \n",
            "106          Karl Mcdaniel  1.800240e+14    Sat7865  \n",
            "107           Jason Mullen  4.738780e+12    Sat5196  \n",
            "108           Steven Grant  4.112810e+15    Sat6376  \n",
            "109        Amanda Anderson  3.756390e+14    Sat2614  \n",
            "110          James Sanchez  3.452430e+14    Sat6801  \n",
            "111            Terri Jones  3.559220e+15    Sat4801  \n",
            "112             Jeff Lopez  3.572870e+15     Sun591  \n",
            "113             John Joyce  6.565960e+15    Sun1885  \n",
            "114            Katie Smith  5.400160e+15    Sun6492  \n",
            "115            Kayla Stone  3.794940e+14    Sun8746  \n",
            "116            Shawn Blake  4.689080e+15      Sun22  \n",
            "117            Linda Zhang  3.560510e+15   Thur9593  \n",
            "118    Dr. Caroline Tucker  5.020470e+11   Thur8084  \n",
            "119         Melanie Jordan  6.762120e+11   Thur8063  \n",
            "120        Kenneth Goodman  4.891260e+12   Thur8289  \n",
            "121           Laura Garcia  5.181480e+15   Thur2158  \n",
            "122           Perry Garcia  1.800350e+14   Thur3579  \n",
            "123       Christopher Lang  4.820630e+15   Thur1992  \n",
            "124            Jordan Diaz  4.472780e+15    Thur208  \n",
            "125         Angela Sanchez  5.038570e+11   Thur3948  \n",
            "126         Mario Bradshaw  4.524400e+15   Thur6719  \n",
            "127        Jessica Simmons  2.131020e+14   Thur1512  \n",
            "128      Christine Perkins  3.548390e+15   Thur8551  \n",
            "129         Raymond Torres  4.855780e+12   Thur9424  \n",
            "130         Seth genderton  2.131140e+14   Thur1446  \n",
            "131           Ashley Burke  5.394650e+15   Thur9005  \n",
            "132        Taylor Gonzalez  6.011990e+15   Thur7783  \n",
            "133           Kaitlin Wolf  6.763480e+11   Thur1561  \n",
            "134        Karen Rodriguez  4.952600e+12     Thur75  \n",
            "135         Rebecca Harris  4.320270e+15   Thur6600  \n",
            "136            Donna Kelly  1.800490e+14   Thur1393  \n",
            "137         Vanessa Morris  2.131890e+14   Thur3890  \n",
            "138          Jason Burgess  3.561460e+15   Thur2710  \n",
            "139          Lindsey Meyer  6.762400e+11   Thur6245  \n",
            "140             Kayla Rios  5.233920e+15   Thur3906  \n",
            "141         Steven Carlson  3.526520e+15   Thur1025  \n",
            "142           Eric Andrews  4.356530e+15   Thur3621  \n",
            "143           Regina Jones  4.311050e+12   Thur6179  \n",
            "144            Linda Jones  6.542730e+15   Thur9002  \n",
            "145              Amy Young  4.285450e+12   Thur9331  \n",
            "146          Kelly Estrada  6.046330e+10   Thur3941  \n",
            "147     Annette Cunningham  6.759380e+11   Thur4780  \n",
            "148          David Stewart  3.578010e+15   Thur7276  \n",
            "149         Daniel Robbins  4.823140e+15   Thur6321  \n",
            "150              Luke Rice  4.813620e+15    Sun8863  \n",
            "151           Jason Arnold  3.571830e+15    Sun2127  \n",
            "152          Gregory Smith  4.292360e+12    Sun5205  \n",
            "153         Todd Patterson  4.416800e+15    Sun8670  \n",
            "154            James Smith  2.131700e+14    Sun5814  \n",
            "155         Madison Wilson  4.210880e+15    Sun9176  \n",
            "156          Ryan Gonzales  3.523150e+15    Sun7518  \n",
            "157           Laura Robles  2.131590e+14    Sun7015  \n",
            "158            Ashley Boyd  3.571090e+15     Sun982  \n",
            "159       Christopher Soto  3.050180e+13    Sun1781  \n",
            "160        Travis Gonzalez  3.527670e+15     Sun245  \n",
            "161        Brandon Oconnor  4.406880e+15    Sun5879  \n",
            "162         Jennifer Baird  4.227830e+15    Sun5521  \n",
            "163         Charles Newton  5.552790e+15    Sun8594  \n",
            "164         Audrey Griffin  3.500850e+15     Sun444  \n",
            "165           Jacob Hansen  4.031120e+12    Sun9043  \n",
            "166            Gordon Lane  4.110600e+15    Sun6738  \n",
            "167         Michael Lawson  3.566290e+15    Sun3719  \n",
            "168           Sara Jimenez  5.020530e+11    Sat9795  \n",
            "169               Amy Hill  3.536330e+15    Sat1788  \n",
            "170          Gregory Clark  5.473850e+15    Sat1954  \n",
            "171             David Hall  5.020040e+11    Sat6750  \n",
            "172            Larry White  3.043260e+13    Sun9209  \n",
            "173            Scott Perez  3.577120e+15    Sun9335  \n",
            "174            Brian Miles  3.586340e+15    Sun7621  \n",
            "175        Nathan Reynolds  3.703070e+14    Sun5109  \n",
            "176         Walter Simmons  6.011480e+15    Sun5961  \n",
            "177            John Dudley  4.565180e+15    Sun6203  \n",
            "178           Melanie Gray  4.211810e+12    Sun4598  \n",
            "179           Brian Bailey  3.466560e+14    Sun9851  \n",
            "180       James Hebert DDS  6.761690e+11    Sun7544  \n",
            "181              Jason Cox  6.556930e+15    Sun3402  \n",
            "182           Jose Parsons  4.112210e+15    Sun2337  \n",
            "183      Dr. Michael James  4.718500e+12    Sun6059  \n",
            "184            Stephen Cox  3.547800e+15    Sun5140  \n",
            "185          Joseph Howell  3.036240e+13    Sun5842  \n",
            "186         Heidi Atkinson  4.422860e+15    Sun4254  \n",
            "187          David Barrett  4.792880e+15    Sun9987  \n",
            "188         Glenda Wiggins  5.783290e+11     Sun430  \n",
            "189        Richard Stevens  3.560190e+15    Sun1821  \n",
            "190           Riley Barnes  1.800540e+14    Sun5104  \n",
            "191            Kristy Boyd  4.317020e+15    Thur967  \n",
            "192       Dr. Jeffrey Rich  4.737540e+12   Thur4334  \n",
            "193       Raymond Sullivan  1.800690e+14    Thur606  \n",
            "194         Benjamin Weber  6.762100e+11   Thur9318  \n",
            "195          Michael White  4.865390e+15    Thur697  \n",
            "196            Eric Martin  3.044250e+13   Thur9862  \n",
            "197            Brooke Soto  5.544900e+15   Thur9313  \n",
            "198         Katherine Bond  4.926730e+12    Thur437  \n",
            "199       Joseph Murphy MD  6.547220e+15   Thur2428  \n",
            "200           Jason Conrad  4.581230e+12   Thur6048  \n",
            "201          Abigail Parks  3.586650e+15   Thur2544  \n",
            "202            Ashley Shaw  1.800880e+14   Thur1301  \n",
            "203            Toni Brooks  3.582290e+15   Thur7770  \n",
            "204              Scott Kim  3.570610e+15   Thur2160  \n",
            "205            Carly Reyes  4.787790e+12   Thur8084  \n",
            "206           Daniel Owens  3.897110e+13       Sat1  \n",
            "207          Ricky Ramirez  3.478180e+14    Sat4505  \n",
            "208           Jason Carter  4.268940e+15    Sat6048  \n",
            "209       Sarah Cunningham  3.418770e+14    Sat1274  \n",
            "210          Shawn Mendoza  3.018400e+13    Sat8361  \n",
            "211         Christopher Li  6.011960e+15    Sat6735  \n",
            "212        Alex Williamson  6.762190e+11    Sat4590  \n",
            "213         Robin Andersen  5.801410e+11    Sat1374  \n",
            "214        Marissa Jackson  4.922300e+15    Sat3374  \n",
            "215           Jessica Owen  4.726900e+12    Sat6983  \n",
            "216      Shawn Barnett PhD  4.590980e+12    Sat7320  \n",
            "217               Gary Orr  3.032450e+13    Sat8489  \n",
            "218        Nicholas Archer  3.405170e+14    Sat4772  \n",
            "219           Shelby House  5.020970e+11    Sat8863  \n",
            "220          Ricky Johnson  2.131100e+14    Fri4607  \n",
            "221         Leslie Kaufman  3.794380e+14    Fri7511  \n",
            "222         Jason Lawrence  3.505300e+15    Fri6624  \n",
            "223            Mary Rivera  5.343430e+15    Fri6014  \n",
            "224      Ronald Vaughn DVM  3.415030e+14    Fri5959  \n",
            "225         Whitney Arnold  3.579110e+15    Fri6665  \n",
            "226             Ruth Weiss  5.268690e+15    Fri6359  \n",
            "227         Robert Bradley  2.131420e+14    Sat4319  \n",
            "228            Glenn Jones  5.020620e+11    Sat2937  \n",
            "229       Jennifer Russell  4.793000e+12    Sat3943  \n",
            "230        Michael Osborne  4.258680e+12    Sat7872  \n",
            "231            Jason Parks  4.812330e+12    Sat6334  \n",
            "232           James Taylor  6.011480e+15    Sat2124  \n",
            "233             Paul Novak  6.011700e+15    Sat1467  \n",
            "234          Tracy Douglas  4.097940e+15    Sat7220  \n",
            "235          Sean Gonzalez  3.534020e+15    Sat4615  \n",
            "236          Matthew Myers  3.543680e+15    Sat5032  \n",
            "237           Thomas Brown  4.284720e+15    Sat2929  \n",
            "238         Kimberly Crane  6.761840e+11    Sat9777  \n",
            "239          Michael Avila  5.296070e+15    Sat2657  \n",
            "240         Monica Sanders  3.506810e+15    Sat1766  \n",
            "241             Keith Wong  6.011890e+15    Sat3880  \n",
            "242           Dennis Dixon  4.375220e+12      Sat17  \n",
            "243        Michelle Hardin  3.511450e+15    Thur672  \n"
          ]
        }
      ]
    },
    {
      "cell_type": "code",
      "source": [
        "pd.reset_option('display.max_columns')\n",
        "pd.reset_option('display.max_rows')\n",
        "print(df)"
      ],
      "metadata": {
        "colab": {
          "base_uri": "https://localhost:8080/"
        },
        "id": "hml3CeOKdOSv",
        "outputId": "b708dc4c-b3ad-4101-80c5-121e0cdc9eec"
      },
      "execution_count": null,
      "outputs": [
        {
          "output_type": "stream",
          "name": "stdout",
          "text": [
            "     total_bill   tip  gender smoker   day    time  size  price_per_person  \\\n",
            "0         16.99  1.01  Female     No   Sun  Dinner     2              8.49   \n",
            "1         10.34  1.66    Male     No   Sun  Dinner     3              3.45   \n",
            "2         21.01  3.50    Male     No   Sun  Dinner     3              7.00   \n",
            "3         23.68  3.31    Male     No   Sun  Dinner     2             11.84   \n",
            "4         24.59  3.61  Female     No   Sun  Dinner     4              6.15   \n",
            "..          ...   ...     ...    ...   ...     ...   ...               ...   \n",
            "239       29.03  5.92    Male     No   Sat  Dinner     3              9.68   \n",
            "240       27.18  2.00  Female    Yes   Sat  Dinner     2             13.59   \n",
            "241       22.67  2.00    Male    Yes   Sat  Dinner     2             11.34   \n",
            "242       17.82  1.75    Male     No   Sat  Dinner     2              8.91   \n",
            "243       18.78  3.00  Female     No  Thur  Dinner     2              9.39   \n",
            "\n",
            "             Payer Name     CC Number Payment ID  \n",
            "0    Christy Cunningham  3.560330e+15    Sun2959  \n",
            "1        Douglas Tucker  4.478070e+15    Sun4608  \n",
            "2        Travis Walters  6.011810e+15    Sun4458  \n",
            "3      Nathaniel Harris  4.676140e+15    Sun5260  \n",
            "4          Tonya Carter  4.832730e+15    Sun2251  \n",
            "..                  ...           ...        ...  \n",
            "239       Michael Avila  5.296070e+15    Sat2657  \n",
            "240      Monica Sanders  3.506810e+15    Sat1766  \n",
            "241          Keith Wong  6.011890e+15    Sat3880  \n",
            "242        Dennis Dixon  4.375220e+12      Sat17  \n",
            "243     Michelle Hardin  3.511450e+15    Thur672  \n",
            "\n",
            "[244 rows x 11 columns]\n"
          ]
        }
      ]
    },
    {
      "cell_type": "code",
      "source": [
        "# Accessing rows by index\n",
        "print(df.iloc[0])"
      ],
      "metadata": {
        "colab": {
          "base_uri": "https://localhost:8080/"
        },
        "id": "IPzdzZJTdiBQ",
        "outputId": "215a49e8-d971-4701-a9e9-d3bbca32f3b7"
      },
      "execution_count": null,
      "outputs": [
        {
          "output_type": "stream",
          "name": "stdout",
          "text": [
            "total_bill                       16.99\n",
            "tip                               1.01\n",
            "gender                          Female\n",
            "smoker                              No\n",
            "day                                Sun\n",
            "time                            Dinner\n",
            "size                                 2\n",
            "price_per_person                  8.49\n",
            "Payer Name          Christy Cunningham\n",
            "CC Number           3560330000000000.0\n",
            "Payment ID                     Sun2959\n",
            "Name: 0, dtype: object\n"
          ]
        }
      ]
    },
    {
      "cell_type": "code",
      "source": [
        "print(df.loc[0])"
      ],
      "metadata": {
        "colab": {
          "base_uri": "https://localhost:8080/"
        },
        "id": "zwX644WheJIm",
        "outputId": "bd058281-5479-4755-e82d-71fa2cddea61"
      },
      "execution_count": null,
      "outputs": [
        {
          "output_type": "stream",
          "name": "stdout",
          "text": [
            "total_bill                       16.99\n",
            "tip                               1.01\n",
            "gender                          Female\n",
            "smoker                              No\n",
            "day                                Sun\n",
            "time                            Dinner\n",
            "size                                 2\n",
            "price_per_person                  8.49\n",
            "Payer Name          Christy Cunningham\n",
            "CC Number           3560330000000000.0\n",
            "Payment ID                     Sun2959\n",
            "Name: 0, dtype: object\n"
          ]
        }
      ]
    },
    {
      "cell_type": "code",
      "source": [],
      "metadata": {
        "id": "cJu2Lhq1eL-G"
      },
      "execution_count": null,
      "outputs": []
    }
  ]
}