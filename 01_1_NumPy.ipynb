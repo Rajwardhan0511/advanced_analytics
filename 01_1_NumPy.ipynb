{
  "nbformat": 4,
  "nbformat_minor": 0,
  "metadata": {
    "colab": {
      "provenance": []
    },
    "kernelspec": {
      "name": "python3",
      "display_name": "Python 3"
    },
    "language_info": {
      "name": "python"
    }
  },
  "cells": [
    {
      "cell_type": "code",
      "execution_count": null,
      "metadata": {
        "id": "NhQUAx56xYwN"
      },
      "outputs": [],
      "source": [
        "import numpy as np"
      ]
    },
    {
      "cell_type": "code",
      "source": [
        "arr1 = np.array([1,2,3,4,5])\n",
        "arr2 = np.array([[1,2,3],[4,5,6]])\n",
        "arr3 = np.array((7,8,9))\n",
        "\n",
        "print(\"Basic Array:\")\n",
        "print(\"1D Array from list:\\n\", arr1)\n",
        "print(\"2D Array from list:\\n\" , arr2)\n",
        "print(\"1D Array from tuple:\\n\", arr3)"
      ],
      "metadata": {
        "colab": {
          "base_uri": "https://localhost:8080/"
        },
        "id": "3j5tYwWSxjDN",
        "outputId": "7c254f78-6cdd-493f-dfc3-caeffe0e11ef"
      },
      "execution_count": null,
      "outputs": [
        {
          "output_type": "stream",
          "name": "stdout",
          "text": [
            "Basic Array:\n",
            "1D Array from list:\n",
            " [1 2 3 4 5]\n",
            "2D Array from list:\n",
            " [[1 2 3]\n",
            " [4 5 6]]\n",
            "1D Array from tuple:\n",
            " [7 8 9]\n"
          ]
        }
      ]
    },
    {
      "cell_type": "code",
      "source": [
        "# Special Arrays\n",
        "\n",
        "zeros = np.zeros((2,3))\n",
        "ones = np.ones((3,2))\n",
        "identity = np.eye(5)\n",
        "arange = np.arange(1,10,2)\n",
        "\n",
        "print(\"Zeros Array:\\n\", zeros)\n",
        "print(\"Ones Array:\\n\", ones)\n",
        "print(\"Identity Array:\\n\", identity)\n",
        "print(\"Arange Array:\\n\", arange)"
      ],
      "metadata": {
        "colab": {
          "base_uri": "https://localhost:8080/"
        },
        "id": "6c6bChxQxu3J",
        "outputId": "17f9e0ce-8d0f-4942-9ec3-8e61857579e1"
      },
      "execution_count": null,
      "outputs": [
        {
          "output_type": "stream",
          "name": "stdout",
          "text": [
            "Zeros Array:\n",
            " [[0. 0. 0.]\n",
            " [0. 0. 0.]]\n",
            "Ones Array:\n",
            " [[1. 1.]\n",
            " [1. 1.]\n",
            " [1. 1.]]\n",
            "Identity Array:\n",
            " [[1. 0. 0. 0. 0.]\n",
            " [0. 1. 0. 0. 0.]\n",
            " [0. 0. 1. 0. 0.]\n",
            " [0. 0. 0. 1. 0.]\n",
            " [0. 0. 0. 0. 1.]]\n",
            "Arange Array:\n",
            " [1 3 5 7 9]\n"
          ]
        }
      ]
    },
    {
      "cell_type": "code",
      "source": [
        "empty = np.empty((2,2))\n",
        "full = np.full((2,2), 5)\n",
        "\n",
        "print(\"Empty Array:\\n\", empty)\n",
        "print(\"Full Array:\\n\", full)"
      ],
      "metadata": {
        "colab": {
          "base_uri": "https://localhost:8080/"
        },
        "id": "mD89wTz6yyJM",
        "outputId": "31e60ea4-247c-4736-9ef6-b78213f9deca"
      },
      "execution_count": null,
      "outputs": [
        {
          "output_type": "stream",
          "name": "stdout",
          "text": [
            "Empty Array:\n",
            " [[1. 0.]\n",
            " [0. 1.]]\n",
            "Full Array:\n",
            " [[5 5]\n",
            " [5 5]]\n"
          ]
        }
      ]
    },
    {
      "cell_type": "code",
      "source": [
        "# Creating arrays with range\n",
        "# arange: Use when you know the step/gap between two consective numbers\n",
        "# linespace: Use when you know the number of elements, not the step/gap\n",
        "\n",
        "range_arange = np.arange(0,10,2)\n",
        "range_linespace = np.linspace(0,10,4)\n",
        "\n",
        "print(\"Arange Array:\\n\", range_arange)\n",
        "print(\"Linespace Array:\\n\", range_linespace)"
      ],
      "metadata": {
        "colab": {
          "base_uri": "https://localhost:8080/"
        },
        "id": "pQyn5H-NzvFS",
        "outputId": "95075a8d-be32-418a-cd9f-366993efc7c1"
      },
      "execution_count": null,
      "outputs": [
        {
          "output_type": "stream",
          "name": "stdout",
          "text": [
            "Arange Array:\n",
            " [0 2 4 6 8]\n",
            "Linespace Array:\n",
            " [ 0.          3.33333333  6.66666667 10.        ]\n"
          ]
        }
      ]
    },
    {
      "cell_type": "code",
      "source": [
        "# Random Array\n",
        "\n",
        "rand = np.random.rand(2,3)\n",
        "rand_int = np.random.randint(1,10,size=(2,3))\n",
        "rand_normal = np.random.randn(2,3)\n",
        "rand_custom_normal = np.random.normal(5, 2, size=(2,3))\n",
        "#rand_custom_normal = np.random.normal(loc=5, scale=2, size=(2,3))\n",
        "\n",
        "print(\"Random Array:\\n\", rand)\n",
        "print(\"Random Integer Array:\\n\", rand_int)\n",
        "print(\"Random Normal Array:\\n\", rand_normal)\n",
        "print(\"Random Custom Normal Array:\\n\", rand_custom_normal)"
      ],
      "metadata": {
        "colab": {
          "base_uri": "https://localhost:8080/"
        },
        "id": "RMhl4ob-0UOE",
        "outputId": "52078889-cc2d-4b16-fefd-9183dfbf2ca9"
      },
      "execution_count": null,
      "outputs": [
        {
          "output_type": "stream",
          "name": "stdout",
          "text": [
            "Random Array:\n",
            " [[0.97192465 0.33330311 0.87410759]\n",
            " [0.59355953 0.83714729 0.74342671]]\n",
            "Random Integer Array:\n",
            " [[5 2 7]\n",
            " [1 4 2]]\n",
            "Random Normal Array:\n",
            " [[-0.36033494 -0.19289048 -1.70132772]\n",
            " [-1.45457499 -0.48498502  0.17962223]]\n",
            "Random Custom Normal Array:\n",
            " [[2.28066252 3.3395937  6.74529064]\n",
            " [5.27515517 6.98100268 5.47197186]]\n"
          ]
        }
      ]
    },
    {
      "cell_type": "code",
      "source": [
        "# Reshaping and initializing shapes\n",
        "reshape = np.arange(12).reshape(3,4)\n",
        "init_like = np.zeros_like(reshape)\n",
        "\n",
        "print(\"Reshaped Array:\\n\", reshape)\n",
        "print(\"Initialized Array:\\n\", init_like)"
      ],
      "metadata": {
        "colab": {
          "base_uri": "https://localhost:8080/"
        },
        "id": "WAlrfb_j0zXw",
        "outputId": "1356566c-fba1-41ec-f012-e063f86da48c"
      },
      "execution_count": null,
      "outputs": [
        {
          "output_type": "stream",
          "name": "stdout",
          "text": [
            "Reshaped Array:\n",
            " [[ 0  1  2  3]\n",
            " [ 4  5  6  7]\n",
            " [ 8  9 10 11]]\n",
            "Initialized Array:\n",
            " [[0 0 0 0]\n",
            " [0 0 0 0]\n",
            " [0 0 0 0]]\n"
          ]
        }
      ]
    },
    {
      "cell_type": "markdown",
      "source": [
        "** numpy indexing and selection**"
      ],
      "metadata": {
        "id": "otJhY3XxBMPm"
      }
    },
    {
      "cell_type": "code",
      "source": [
        "arr = np.arange(0,11)\n",
        "print(\"Initial array:\\n\", arr)"
      ],
      "metadata": {
        "colab": {
          "base_uri": "https://localhost:8080/"
        },
        "id": "wlUDGti2BR0k",
        "outputId": "d5058c72-94b8-4b5e-c86e-915bc22709b0"
      },
      "execution_count": null,
      "outputs": [
        {
          "output_type": "stream",
          "name": "stdout",
          "text": [
            "Initial array:\n",
            " [ 0  1  2  3  4  5  6  7  8  9 10]\n"
          ]
        }
      ]
    },
    {
      "cell_type": "code",
      "source": [
        "# get value at index\n",
        "print(\"Value at index 5:\", arr[5])"
      ],
      "metadata": {
        "colab": {
          "base_uri": "https://localhost:8080/"
        },
        "id": "Pqu2d0jIBbO8",
        "outputId": "3d8f3485-835d-4504-96b4-9a3e928dbfe6"
      },
      "execution_count": null,
      "outputs": [
        {
          "output_type": "stream",
          "name": "stdout",
          "text": [
            "Value at index 5: 5\n"
          ]
        }
      ]
    },
    {
      "cell_type": "code",
      "source": [
        "# Get value in range\n",
        "print(\"Value in range 1-5:\", arr[1:5])"
      ],
      "metadata": {
        "colab": {
          "base_uri": "https://localhost:8080/"
        },
        "id": "FsSWPbjkBkMM",
        "outputId": "aab650d2-6207-43d1-87c5-cd8a91c7a336"
      },
      "execution_count": null,
      "outputs": [
        {
          "output_type": "stream",
          "name": "stdout",
          "text": [
            "Value in range 1-5: [1 2 3 4]\n"
          ]
        }
      ]
    },
    {
      "cell_type": "markdown",
      "source": [
        "Broadcasting"
      ],
      "metadata": {
        "id": "ohZMR4I4B-Vm"
      }
    },
    {
      "cell_type": "code",
      "source": [
        "# Setting values with index range\n",
        "arr[0:5] = 100\n",
        "print(\"Broadcasted array:\\n\", arr)"
      ],
      "metadata": {
        "colab": {
          "base_uri": "https://localhost:8080/"
        },
        "id": "4VcTLwVKBy5D",
        "outputId": "bcde37e0-0681-4cc9-b1bc-be49146f6211"
      },
      "execution_count": null,
      "outputs": [
        {
          "output_type": "stream",
          "name": "stdout",
          "text": [
            "Broadcasted array:\n",
            " [100 100 100 100 100   5   6   7   8   9  10]\n"
          ]
        }
      ]
    },
    {
      "cell_type": "code",
      "source": [
        "# Reset array\n",
        "arr = np.arange(0,11)\n",
        "print(\"Initial array:\\n\", arr)"
      ],
      "metadata": {
        "colab": {
          "base_uri": "https://localhost:8080/"
        },
        "id": "lCzrghbqCQe0",
        "outputId": "b006f90d-c68c-4a6a-e908-79201c21339b"
      },
      "execution_count": null,
      "outputs": [
        {
          "output_type": "stream",
          "name": "stdout",
          "text": [
            "Initial array:\n",
            " [ 0  1  2  3  4  5  6  7  8  9 10]\n"
          ]
        }
      ]
    },
    {
      "cell_type": "code",
      "source": [
        "# Important note on slices\n",
        "slice_of_arr = arr[0:6]\n",
        "print(\"Slice of array:\\n\", slice_of_arr)"
      ],
      "metadata": {
        "colab": {
          "base_uri": "https://localhost:8080/"
        },
        "id": "Nbl3t6UuCbp2",
        "outputId": "886e117f-dc01-4fa5-8cec-ecb341620425"
      },
      "execution_count": null,
      "outputs": [
        {
          "output_type": "stream",
          "name": "stdout",
          "text": [
            "Slice of array:\n",
            " [0 1 2 3 4 5]\n"
          ]
        }
      ]
    },
    {
      "cell_type": "code",
      "source": [
        "# Change slice\n",
        "slice_of_arr[:] = 99\n",
        "print(\"Broadcasted slice of array:\\n\", slice_of_arr)\n",
        "print(\"Original array:\\n\", arr)"
      ],
      "metadata": {
        "colab": {
          "base_uri": "https://localhost:8080/"
        },
        "id": "RIDiLIHWClYG",
        "outputId": "3c1187a5-6b0b-4d81-cf5e-fd49dd4f46c0"
      },
      "execution_count": null,
      "outputs": [
        {
          "output_type": "stream",
          "name": "stdout",
          "text": [
            "Broadcasted slice of array:\n",
            " [99 99 99 99 99 99]\n",
            "Original array:\n",
            " [99 99 99 99 99 99  6  7  8  9 10]\n"
          ]
        }
      ]
    },
    {
      "cell_type": "code",
      "source": [
        "# To get a copy\n",
        "arr_copy = arr.copy()\n",
        "print(\"Copied array:\\n\", arr_copy)\n",
        "arr_copy[:] = 20\n",
        "print(\"Copied array After change:\\n\", arr_copy)\n",
        "print(\"Original array:\\n\", arr)"
      ],
      "metadata": {
        "colab": {
          "base_uri": "https://localhost:8080/"
        },
        "id": "7yFtfN13CvHO",
        "outputId": "b8ba3e52-961d-48cd-b925-eb2e6730d579"
      },
      "execution_count": null,
      "outputs": [
        {
          "output_type": "stream",
          "name": "stdout",
          "text": [
            "Copied array:\n",
            " [99 99 99 99 99 99  6  7  8  9 10]\n",
            "Copied array After change:\n",
            " [20 20 20 20 20 20 20 20 20 20 20]\n",
            "Original array:\n",
            " [99 99 99 99 99 99  6  7  8  9 10]\n"
          ]
        }
      ]
    },
    {
      "cell_type": "markdown",
      "source": [
        "2D arrays"
      ],
      "metadata": {
        "id": "0qlPTBySDDBp"
      }
    },
    {
      "cell_type": "code",
      "source": [
        "arr_2d = np.array(([5,10,15],[20,25,30],[35,40,45]))\n",
        "print(\"2D array:\\n\", arr_2d)"
      ],
      "metadata": {
        "colab": {
          "base_uri": "https://localhost:8080/"
        },
        "id": "XKBFbiybC8GH",
        "outputId": "bbd3634f-ebf3-4954-8a51-372a1cd3f8de"
      },
      "execution_count": null,
      "outputs": [
        {
          "output_type": "stream",
          "name": "stdout",
          "text": [
            "2D array:\n",
            " [[ 5 10 15]\n",
            " [20 25 30]\n",
            " [35 40 45]]\n"
          ]
        }
      ]
    },
    {
      "cell_type": "code",
      "source": [
        "print(\"Second row of 2d array: \", arr_2d[1])\n",
        "print(\"Second row of 2d array: \", arr_2d[1, :])"
      ],
      "metadata": {
        "colab": {
          "base_uri": "https://localhost:8080/"
        },
        "id": "XydvqBkZDNVv",
        "outputId": "f1ba1b3c-9310-4b76-88ef-5aba9136eaad"
      },
      "execution_count": null,
      "outputs": [
        {
          "output_type": "stream",
          "name": "stdout",
          "text": [
            "Second row of 2d array:  [20 25 30]\n",
            "Second row of 2d array:  [20 25 30]\n"
          ]
        }
      ]
    },
    {
      "cell_type": "code",
      "source": [
        "# Getting individual element value\n",
        "print(\"Individual element value at [1][0]:\", arr_2d[1][0])\n",
        "print(\"Individual element value at [1, 0] (Alternative syntax):\", arr_2d[1, 0])"
      ],
      "metadata": {
        "colab": {
          "base_uri": "https://localhost:8080/"
        },
        "id": "A7bbdReWDgPl",
        "outputId": "7992706d-af74-4b27-9563-e3e208d75a84"
      },
      "execution_count": null,
      "outputs": [
        {
          "output_type": "stream",
          "name": "stdout",
          "text": [
            "Individual element value at [1][0]: 20\n",
            "Individual element value at [1, 0] (Alternative syntax): 20\n"
          ]
        }
      ]
    },
    {
      "cell_type": "code",
      "source": [
        "# 2d Slicing\n",
        "print(\"2d Slicing:\\n\", arr_2d[:2,1:])"
      ],
      "metadata": {
        "colab": {
          "base_uri": "https://localhost:8080/"
        },
        "id": "MbHVCrOrD50c",
        "outputId": "4135797f-e0bc-4939-883b-15108270f3f2"
      },
      "execution_count": null,
      "outputs": [
        {
          "output_type": "stream",
          "name": "stdout",
          "text": [
            "2d Slicing:\n",
            " [[10 15]\n",
            " [25 30]]\n"
          ]
        }
      ]
    },
    {
      "cell_type": "markdown",
      "source": [
        "# Conditional Selection"
      ],
      "metadata": {
        "id": "kh15H7IfE0du"
      }
    },
    {
      "cell_type": "code",
      "source": [
        "arr = np.arange(1,11)\n",
        "print(\"Initial array:\\n\", arr)"
      ],
      "metadata": {
        "colab": {
          "base_uri": "https://localhost:8080/"
        },
        "id": "4jhBqCbxELRE",
        "outputId": "5484f77b-4369-45b6-d5b0-db7416090cdc"
      },
      "execution_count": null,
      "outputs": [
        {
          "output_type": "stream",
          "name": "stdout",
          "text": [
            "Initial array:\n",
            " [ 1  2  3  4  5  6  7  8  9 10]\n"
          ]
        }
      ]
    },
    {
      "cell_type": "code",
      "source": [
        "# Check condition\n",
        "print(arr)\n",
        "print(\"Condition check arr > 4:\\n\", arr > 4)"
      ],
      "metadata": {
        "colab": {
          "base_uri": "https://localhost:8080/"
        },
        "id": "0RRZNno4Ewo7",
        "outputId": "c5fb74bc-277b-40f2-99f4-6c92ce837a8e"
      },
      "execution_count": null,
      "outputs": [
        {
          "output_type": "stream",
          "name": "stdout",
          "text": [
            "[ 1  2  3  4  5  6  7  8  9 10]\n",
            "Condition check arr > 4:\n",
            " [False False False False  True  True  True  True  True  True]\n"
          ]
        }
      ]
    },
    {
      "cell_type": "code",
      "source": [
        "# Store boolean array in different array\n",
        "bool_arr = arr > 4\n",
        "print(\"Boolean array:\\n\", bool_arr)"
      ],
      "metadata": {
        "colab": {
          "base_uri": "https://localhost:8080/"
        },
        "id": "6c6acHt9E_BT",
        "outputId": "71aab529-78f3-45ea-b1ea-132b85bfa8f3"
      },
      "execution_count": null,
      "outputs": [
        {
          "output_type": "stream",
          "name": "stdout",
          "text": [
            "Boolean array:\n",
            " [False False False False  True  True  True  True  True  True]\n"
          ]
        }
      ]
    },
    {
      "cell_type": "code",
      "source": [
        "# Select element where condition is True\n",
        "print(\"Select element where condition is True:\\n\", arr[bool_arr])"
      ],
      "metadata": {
        "colab": {
          "base_uri": "https://localhost:8080/"
        },
        "id": "zgCKPVGRFaYA",
        "outputId": "6fe41fdb-4cce-4e02-8576-baa46766ce4c"
      },
      "execution_count": null,
      "outputs": [
        {
          "output_type": "stream",
          "name": "stdout",
          "text": [
            "Select element where condition is True:\n",
            " [ 5  6  7  8  9 10]\n"
          ]
        }
      ]
    },
    {
      "cell_type": "code",
      "source": [
        "# Using condition directly in selection\n",
        "print(\"Select element where condition is True:\\n\", arr[arr > 4])"
      ],
      "metadata": {
        "colab": {
          "base_uri": "https://localhost:8080/"
        },
        "id": "T7MtCkZWGTTY",
        "outputId": "c793cb23-9c1d-4dc0-9d32-054d396241b9"
      },
      "execution_count": null,
      "outputs": [
        {
          "output_type": "stream",
          "name": "stdout",
          "text": [
            "Select element where condition is True:\n",
            " [ 5  6  7  8  9 10]\n"
          ]
        }
      ]
    },
    {
      "cell_type": "code",
      "source": [
        "# Using a variable for condition\n",
        "x=2\n",
        "print(\"Select element where condition arr > x is True:\\n\", arr[arr > x])"
      ],
      "metadata": {
        "colab": {
          "base_uri": "https://localhost:8080/"
        },
        "id": "cJQSsI9wGqtn",
        "outputId": "03770665-f8b0-4c8d-80f2-d56ce4b71b32"
      },
      "execution_count": null,
      "outputs": [
        {
          "output_type": "stream",
          "name": "stdout",
          "text": [
            "Select element where condition arr > x is True:\n",
            " [ 3  4  5  6  7  8  9 10]\n"
          ]
        }
      ]
    },
    {
      "cell_type": "code",
      "source": [],
      "metadata": {
        "id": "r-weX0-AHC0v"
      },
      "execution_count": null,
      "outputs": []
    },
    {
      "cell_type": "markdown",
      "source": [
        "# Statistical properties of numpy arrays"
      ],
      "metadata": {
        "id": "_AbHX9PlHvPZ"
      }
    },
    {
      "cell_type": "code",
      "source": [
        "# creating a simple array\n",
        "arr = np.arange(0,10)\n",
        "print(\"Initial array:\\n\", arr)"
      ],
      "metadata": {
        "colab": {
          "base_uri": "https://localhost:8080/"
        },
        "id": "gBdsrVP4H1R2",
        "outputId": "ac81d28d-e6bf-41bd-fa9a-6daf59e90b79"
      },
      "execution_count": null,
      "outputs": [
        {
          "output_type": "stream",
          "name": "stdout",
          "text": [
            "Initial array:\n",
            " [0 1 2 3 4 5 6 7 8 9]\n"
          ]
        }
      ]
    },
    {
      "cell_type": "code",
      "source": [
        "# Shape of array\n",
        "print(\"Shape of array:\\n\", arr.shape)"
      ],
      "metadata": {
        "colab": {
          "base_uri": "https://localhost:8080/"
        },
        "id": "z4xBpBztH6Se",
        "outputId": "ec2695c3-7bf7-4ae8-a56f-d1468faef4f5"
      },
      "execution_count": null,
      "outputs": [
        {
          "output_type": "stream",
          "name": "stdout",
          "text": [
            "Shape of array:\n",
            " (10,)\n"
          ]
        }
      ]
    },
    {
      "cell_type": "code",
      "source": [
        "# Summary statistics\n",
        "print(\"Sum of element:\", np.sum(arr), \"Alternative: \", arr.sum())\n",
        "print(\"Mean of array:\", np.mean(arr), \"Alternative: \", arr.mean())\n",
        "print(\"Minimum of array:\", np.min(arr), \"Alternative: \", arr.min())\n",
        "print(\"Maximum of array:\", np.max(arr), \"Alternative: \", arr.max())\n",
        "print(\"Standard Deviation of array:\", np.std(arr), \"Alternative: \", arr.std())\n",
        "print(\"Variance of array:\", np.var(arr), \"Alternative: \", arr.var())\n",
        "print(\"Median of array:\", np.median(arr), \"Alternative: \", np.percentile(arr, 50))"
      ],
      "metadata": {
        "colab": {
          "base_uri": "https://localhost:8080/"
        },
        "id": "uGHQP3nOH9om",
        "outputId": "95fe5f94-4b21-4b98-f3b5-49074b0919da"
      },
      "execution_count": null,
      "outputs": [
        {
          "output_type": "stream",
          "name": "stdout",
          "text": [
            "Sum of element: 45 Alternative:  45\n",
            "Mean of array: 4.5 Alternative:  4.5\n",
            "Minimum of array: 0 Alternative:  0\n",
            "Maximum of array: 9 Alternative:  9\n",
            "Standard Deviation of array: 2.8722813232690143 Alternative:  2.8722813232690143\n",
            "Variance of array: 8.25 Alternative:  8.25\n",
            "Median of array: 4.5 Alternative:  4.5\n"
          ]
        }
      ]
    },
    {
      "cell_type": "code",
      "source": [],
      "metadata": {
        "id": "xi6k9xmaIdfd"
      },
      "execution_count": null,
      "outputs": []
    }
  ]
}