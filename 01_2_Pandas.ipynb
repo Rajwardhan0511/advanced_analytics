{
  "nbformat": 4,
  "nbformat_minor": 0,
  "metadata": {
    "colab": {
      "provenance": []
    },
    "kernelspec": {
      "name": "python3",
      "display_name": "Python 3"
    },
    "language_info": {
      "name": "python"
    }
  },
  "cells": [
    {
      "cell_type": "markdown",
      "source": [
        "# Pandas series creation"
      ],
      "metadata": {
        "id": "Get7u1hyNrIt"
      }
    },
    {
      "cell_type": "code",
      "source": [
        "import numpy as np\n",
        "import pandas as pd"
      ],
      "metadata": {
        "id": "P27Sn7CaNuqk"
      },
      "execution_count": null,
      "outputs": []
    },
    {
      "cell_type": "code",
      "source": [
        "# 1. creating a Series from a Python list with default numeric index\n",
        "myindex = ['USA', 'Canada', 'England']\n",
        "mydata = [1776, 1867, 1821]"
      ],
      "metadata": {
        "id": "WQp2QpkrN5P1"
      },
      "execution_count": null,
      "outputs": []
    },
    {
      "cell_type": "code",
      "source": [
        "# Series with default integer index\n",
        "myser = pd.Series(data=mydata)\n",
        "print(\"Series with default index:\\n\", myser)"
      ],
      "metadata": {
        "colab": {
          "base_uri": "https://localhost:8080/"
        },
        "id": "Q8yt6MsGONkC",
        "outputId": "4484d2ed-4cb4-4d3b-f8b9-8eeb3dfe068b"
      },
      "execution_count": null,
      "outputs": [
        {
          "output_type": "stream",
          "name": "stdout",
          "text": [
            "Series with default index:\n",
            " 0    1776\n",
            "1    1867\n",
            "2    1821\n",
            "dtype: int64\n"
          ]
        }
      ]
    },
    {
      "cell_type": "code",
      "source": [
        "# 2. Creating a Series with a custom index\n",
        "myser = pd.Series(data=mydata, index=myindex)\n",
        "print(\"Series with named index:\\n\",myser)"
      ],
      "metadata": {
        "colab": {
          "base_uri": "https://localhost:8080/"
        },
        "id": "B83y77s8Ohex",
        "outputId": "e5434bed-3bdb-49f5-8f2a-eae5cfce5c21"
      },
      "execution_count": null,
      "outputs": [
        {
          "output_type": "stream",
          "name": "stdout",
          "text": [
            "Series with named index:\n",
            " USA        1776\n",
            "Canada     1867\n",
            "England    1821\n",
            "dtype: int64\n"
          ]
        }
      ]
    },
    {
      "cell_type": "code",
      "source": [
        "# 3. Creating a Series from a NumPy array\n",
        "ran_data = np.random.randint(0,100,5)\n",
        "print(\"NumPy array:\\n\",ran_data)"
      ],
      "metadata": {
        "colab": {
          "base_uri": "https://localhost:8080/"
        },
        "id": "Gle7_betOr4B",
        "outputId": "7244f958-0196-4e8d-dc3e-811b3f2f1605"
      },
      "execution_count": null,
      "outputs": [
        {
          "output_type": "stream",
          "name": "stdout",
          "text": [
            "NumPy array:\n",
            " [55 80 52  1 83]\n"
          ]
        }
      ]
    },
    {
      "cell_type": "code",
      "source": [
        "names = ['Andrew', 'Bobo', 'Claire', 'David', 'Emma']\n",
        "ages = pd.Series(data=ran_data, index=names)\n",
        "print(\"Series from NumPy array:\\n\",ages)"
      ],
      "metadata": {
        "colab": {
          "base_uri": "https://localhost:8080/"
        },
        "id": "qRuaDUdPPI34",
        "outputId": "608b9166-cbbd-4f37-faa5-6092c41ace90"
      },
      "execution_count": null,
      "outputs": [
        {
          "output_type": "stream",
          "name": "stdout",
          "text": [
            "Series from NumPy array:\n",
            " Andrew    55\n",
            "Bobo      80\n",
            "Claire    52\n",
            "David      1\n",
            "Emma      83\n",
            "dtype: int64\n"
          ]
        }
      ]
    },
    {
      "cell_type": "code",
      "source": [
        "# 4. Creating a Series from a dictionary\n",
        "ages = {'Sam':5, 'Frank':10, 'Spike':7}\n",
        "print(\"Dictionary:\\n\",ages)"
      ],
      "metadata": {
        "colab": {
          "base_uri": "https://localhost:8080/"
        },
        "id": "Irdhb6FvPV_I",
        "outputId": "f2857400-4c00-4d2e-c444-772ebf584e62"
      },
      "execution_count": null,
      "outputs": [
        {
          "output_type": "stream",
          "name": "stdout",
          "text": [
            "Dictionary:\n",
            " {'Sam': 5, 'Frank': 10, 'Spike': 7}\n"
          ]
        }
      ]
    },
    {
      "cell_type": "code",
      "source": [
        "# 5. Creating Series for imaginary sales data (Q1 and Q2)\n",
        "q1 = {'Japan': 80, 'China': 450, 'India': 200, 'USA': 250}\n",
        "q2 = {'Brazil': 100,'China': 500, 'India': 210,'USA': 260}"
      ],
      "metadata": {
        "id": "l1kFrJ5ePgxw"
      },
      "execution_count": null,
      "outputs": []
    },
    {
      "cell_type": "code",
      "source": [
        "# Convert dictionaries to Pandas Series\n",
        "sales_Q1 = pd.Series(q1)\n",
        "sales_Q2 = pd.Series(q2)"
      ],
      "metadata": {
        "id": "29OTM0fIP2OH"
      },
      "execution_count": null,
      "outputs": []
    },
    {
      "cell_type": "code",
      "source": [
        "print(\"Series for Q1 sales:\\n\",sales_Q1)"
      ],
      "metadata": {
        "colab": {
          "base_uri": "https://localhost:8080/"
        },
        "id": "4we6WrfoQHb-",
        "outputId": "999e0c23-2777-4e6f-b167-c69c23701477"
      },
      "execution_count": null,
      "outputs": [
        {
          "output_type": "stream",
          "name": "stdout",
          "text": [
            "Series for Q1 sales:\n",
            " Japan     80\n",
            "China    450\n",
            "India    200\n",
            "USA      250\n",
            "dtype: int64\n"
          ]
        }
      ]
    },
    {
      "cell_type": "code",
      "source": [
        "# Accessing values by named index\n",
        "print(\"Japan sales in Q1:\",sales_Q1['Japan'])"
      ],
      "metadata": {
        "colab": {
          "base_uri": "https://localhost:8080/"
        },
        "id": "v6rkklyTQXZe",
        "outputId": "e22fc873-f686-46b1-ab38-e76fe0ccc03b"
      },
      "execution_count": null,
      "outputs": [
        {
          "output_type": "stream",
          "name": "stdout",
          "text": [
            "Japan sales in Q1: 80\n"
          ]
        }
      ]
    },
    {
      "cell_type": "code",
      "source": [
        "# Integer-based location indexing (default index)\n",
        "print(\"Second value in Q1 sales:\",sales_Q1[0])"
      ],
      "metadata": {
        "colab": {
          "base_uri": "https://localhost:8080/"
        },
        "id": "XoxTgfy3QgHO",
        "outputId": "df1d87dc-8dd3-4295-a2d1-d8df7f4f524f"
      },
      "execution_count": null,
      "outputs": [
        {
          "output_type": "stream",
          "name": "stdout",
          "text": [
            "Second value in Q1 sales: 80\n"
          ]
        },
        {
          "output_type": "stream",
          "name": "stderr",
          "text": [
            "<ipython-input-25-e07ce2753e5f>:2: FutureWarning: Series.__getitem__ treating keys as positions is deprecated. In a future version, integer keys will always be treated as labels (consistent with DataFrame behavior). To access a value by position, use `ser.iloc[pos]`\n",
            "  print(\"Second value in Q1 sales:\",sales_Q1[0])\n"
          ]
        }
      ]
    },
    {
      "cell_type": "code",
      "source": [
        "# 6. Error handling for non-existing index\n",
        "print(sales_Q1['France'])  # Non-exisiting key\n",
        "print(sales_Q1['USA '])  # Extra space in key\n",
        "print(sales_Q1['usa'])  # Case-sensitive key"
      ],
      "metadata": {
        "id": "mnfm26O3RadM"
      },
      "execution_count": null,
      "outputs": []
    },
    {
      "cell_type": "code",
      "source": [
        "# Series operations\n",
        "print(\"Series keys:\", sales_Q1.keys())  # Get keys (country names)"
      ],
      "metadata": {
        "colab": {
          "base_uri": "https://localhost:8080/"
        },
        "id": "cRqX06NcRe3N",
        "outputId": "d4bf6b3f-9a82-4c26-d275-e5c84cf99efb"
      },
      "execution_count": null,
      "outputs": [
        {
          "output_type": "stream",
          "name": "stdout",
          "text": [
            "Series keys: Index(['Japan', 'China', 'India', 'USA'], dtype='object')\n"
          ]
        }
      ]
    },
    {
      "cell_type": "code",
      "source": [
        "# Broadcasting operations\n",
        "print(\"Sales Q1 doubled:\\n\", sales_Q1 * 2)  # Multiply each value by 2\n",
        "print(\"Sales Q2 divided by 100:\\n\", sales_Q2 / 100)  # Divide each value by 100"
      ],
      "metadata": {
        "colab": {
          "base_uri": "https://localhost:8080/"
        },
        "id": "98VOs1NnRuI-",
        "outputId": "8c9e28c1-44b5-4709-e617-19bb8c11e4d3"
      },
      "execution_count": null,
      "outputs": [
        {
          "output_type": "stream",
          "name": "stdout",
          "text": [
            "Sales Q1 doubled:\n",
            " Japan    160\n",
            "China    900\n",
            "India    400\n",
            "USA      500\n",
            "dtype: int64\n",
            "Sales Q2 divided by 100:\n",
            " Brazil    1.0\n",
            "China     5.0\n",
            "India     2.1\n",
            "USA       2.6\n",
            "dtype: float64\n"
          ]
        }
      ]
    },
    {
      "cell_type": "code",
      "source": [
        "# Handling mismatched indices (NaN values)\n",
        "print(\"Sales Q1 + Sales Q2 (With NaN where no matching key):\\n\", sales_Q1 + sales_Q2)\n"
      ],
      "metadata": {
        "colab": {
          "base_uri": "https://localhost:8080/"
        },
        "id": "j8hz83DfR7GU",
        "outputId": "3acc8048-805d-4a52-b5d2-7d11dd57e966"
      },
      "execution_count": null,
      "outputs": [
        {
          "output_type": "stream",
          "name": "stdout",
          "text": [
            "Sales Q1 + Sales Q2 (With NaN where no matching key):\n",
            " Brazil      NaN\n",
            "China     950.0\n",
            "India     410.0\n",
            "Japan       NaN\n",
            "USA       510.0\n",
            "dtype: float64\n"
          ]
        }
      ]
    },
    {
      "cell_type": "code",
      "source": [
        "# Handling missing data ( Filling NaN with defaulty values)\n",
        "print(\"Sales Q1 + Sales Q2 (With 0 where no matching key):\\n\", sales_Q1.add(sales_Q2, fill_value=0))\n"
      ],
      "metadata": {
        "colab": {
          "base_uri": "https://localhost:8080/"
        },
        "id": "SqGjMN0cSRQM",
        "outputId": "c5611e4b-040d-40de-fa1b-72b39953c2b9"
      },
      "execution_count": null,
      "outputs": [
        {
          "output_type": "stream",
          "name": "stdout",
          "text": [
            "Sales Q1 + Sales Q2 (With 0 where no matching key):\n",
            " Brazil    100.0\n",
            "China     950.0\n",
            "India     410.0\n",
            "Japan      80.0\n",
            "USA       510.0\n",
            "dtype: float64\n"
          ]
        }
      ]
    },
    {
      "cell_type": "code",
      "source": [],
      "metadata": {
        "id": "7lBFzGSiSaV8"
      },
      "execution_count": null,
      "outputs": []
    }
  ]
}