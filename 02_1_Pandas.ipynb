{
  "nbformat": 4,
  "nbformat_minor": 0,
  "metadata": {
    "colab": {
      "provenance": []
    },
    "kernelspec": {
      "name": "python3",
      "display_name": "Python 3"
    },
    "language_info": {
      "name": "python"
    }
  },
  "cells": [
    {
      "cell_type": "code",
      "execution_count": null,
      "metadata": {
        "id": "MI0GRlhLJOdp"
      },
      "outputs": [],
      "source": [
        "import numpy as np\n",
        "import pandas as pd"
      ]
    },
    {
      "cell_type": "code",
      "source": [
        "df = pd.read_csv('tips.csv')"
      ],
      "metadata": {
        "id": "HOedcop6JUgw"
      },
      "execution_count": null,
      "outputs": []
    },
    {
      "cell_type": "code",
      "source": [
        "# Filter rows where total_bill is greater than 30\n",
        "print(df[df['total_bill'] > 30])"
      ],
      "metadata": {
        "colab": {
          "base_uri": "https://localhost:8080/"
        },
        "id": "unVjlY8-JkFv",
        "outputId": "07bdb867-e345-4813-d677-2e83f985c137"
      },
      "execution_count": null,
      "outputs": [
        {
          "output_type": "stream",
          "name": "stdout",
          "text": [
            "     total_bill    tip  gender smoker   day    time  size  price_per_person  \\\n",
            "11        35.26   5.00  Female     No   Sun  Dinner     4              8.82   \n",
            "23        39.42   7.58    Male     No   Sat  Dinner     4              9.86   \n",
            "39        31.27   5.00    Male     No   Sat  Dinner     3             10.42   \n",
            "44        30.40   5.60    Male     No   Sun  Dinner     4              7.60   \n",
            "47        32.40   6.00    Male     No   Sun  Dinner     4              8.10   \n",
            "52        34.81   5.20  Female     No   Sun  Dinner     4              8.70   \n",
            "56        38.01   3.00    Male    Yes   Sat  Dinner     4              9.50   \n",
            "59        48.27   6.73    Male     No   Sat  Dinner     4             12.07   \n",
            "83        32.68   5.00    Male    Yes  Thur   Lunch     2             16.34   \n",
            "85        34.83   5.17  Female     No  Thur   Lunch     4              8.71   \n",
            "95        40.17   4.73    Male    Yes   Fri  Dinner     4             10.04   \n",
            "102       44.30   2.50  Female    Yes   Sat  Dinner     3             14.77   \n",
            "112       38.07   4.00    Male     No   Sun  Dinner     3             12.69   \n",
            "141       34.30   6.70    Male     No  Thur   Lunch     6              5.72   \n",
            "142       41.19   5.00    Male     No  Thur   Lunch     5              8.24   \n",
            "156       48.17   5.00    Male     No   Sun  Dinner     6              8.03   \n",
            "167       31.71   4.50    Male     No   Sun  Dinner     4              7.93   \n",
            "170       50.81  10.00    Male    Yes   Sat  Dinner     3             16.94   \n",
            "173       31.85   3.18    Male    Yes   Sun  Dinner     2             15.92   \n",
            "175       32.90   3.11    Male    Yes   Sun  Dinner     2             16.45   \n",
            "179       34.63   3.55    Male    Yes   Sun  Dinner     2             17.32   \n",
            "180       34.65   3.68    Male    Yes   Sun  Dinner     4              8.66   \n",
            "182       45.35   3.50    Male    Yes   Sun  Dinner     3             15.12   \n",
            "184       40.55   3.00    Male    Yes   Sun  Dinner     2             20.27   \n",
            "187       30.46   2.00    Male    Yes   Sun  Dinner     5              6.09   \n",
            "197       43.11   5.00  Female    Yes  Thur   Lunch     4             10.78   \n",
            "207       38.73   3.00    Male    Yes   Sat  Dinner     4              9.68   \n",
            "210       30.06   2.00    Male    Yes   Sat  Dinner     3             10.02   \n",
            "212       48.33   9.00    Male     No   Sat  Dinner     4             12.08   \n",
            "219       30.14   3.09  Female    Yes   Sat  Dinner     4              7.54   \n",
            "237       32.83   1.17    Male    Yes   Sat  Dinner     2             16.42   \n",
            "238       35.83   4.67  Female     No   Sat  Dinner     3             11.94   \n",
            "\n",
            "                Payer Name     CC Number Payment ID  \n",
            "11            Diane Macias  4.577820e+15    Sun6686  \n",
            "23          Lance Peterson  3.542580e+15     Sat239  \n",
            "39       Mr. Brandon Berry  6.011530e+15    Sat6373  \n",
            "44             Todd Cooper  5.038470e+11    Sun2274  \n",
            "47            James Barnes  3.552000e+15    Sun9677  \n",
            "52            Emily Daniel  4.291280e+15    Sun6165  \n",
            "56   James Christensen DDS  3.497940e+14    Sat8903  \n",
            "59             Brian Ortiz  6.596450e+15    Sat8139  \n",
            "83           Daniel Murphy  5.356180e+15   Thur8801  \n",
            "85             Shawna Cook  6.011790e+15   Thur7972  \n",
            "95           Aaron Bentley  1.800270e+14    Fri9628  \n",
            "102          Heather Cohen  3.797710e+14    Sat6240  \n",
            "112             Jeff Lopez  3.572870e+15     Sun591  \n",
            "141         Steven Carlson  3.526520e+15   Thur1025  \n",
            "142           Eric Andrews  4.356530e+15   Thur3621  \n",
            "156          Ryan Gonzales  3.523150e+15    Sun7518  \n",
            "167         Michael Lawson  3.566290e+15    Sun3719  \n",
            "170          Gregory Clark  5.473850e+15    Sat1954  \n",
            "173            Scott Perez  3.577120e+15    Sun9335  \n",
            "175        Nathan Reynolds  3.703070e+14    Sun5109  \n",
            "179           Brian Bailey  3.466560e+14    Sun9851  \n",
            "180       James Hebert DDS  6.761690e+11    Sun7544  \n",
            "182           Jose Parsons  4.112210e+15    Sun2337  \n",
            "184            Stephen Cox  3.547800e+15    Sun5140  \n",
            "187          David Barrett  4.792880e+15    Sun9987  \n",
            "197            Brooke Soto  5.544900e+15   Thur9313  \n",
            "207          Ricky Ramirez  3.478180e+14    Sat4505  \n",
            "210          Shawn Mendoza  3.018400e+13    Sat8361  \n",
            "212        Alex Williamson  6.762190e+11    Sat4590  \n",
            "219           Shelby House  5.020970e+11    Sat8863  \n",
            "237           Thomas Brown  4.284720e+15    Sat2929  \n",
            "238         Kimberly Crane  6.761840e+11    Sat9777  \n"
          ]
        }
      ]
    },
    {
      "cell_type": "code",
      "source": [
        "# Filter rows based on gender\n",
        "print(df[df['gender'] == 'Male'])"
      ],
      "metadata": {
        "colab": {
          "base_uri": "https://localhost:8080/"
        },
        "id": "R1ao8T-tJuUO",
        "outputId": "c2167e2e-5bb4-4528-c7a5-d4e021b3fafb"
      },
      "execution_count": null,
      "outputs": [
        {
          "output_type": "stream",
          "name": "stdout",
          "text": [
            "     total_bill   tip gender smoker  day    time  size  price_per_person  \\\n",
            "1         10.34  1.66   Male     No  Sun  Dinner     3              3.45   \n",
            "2         21.01  3.50   Male     No  Sun  Dinner     3              7.00   \n",
            "3         23.68  3.31   Male     No  Sun  Dinner     2             11.84   \n",
            "5         25.29  4.71   Male     No  Sun  Dinner     4              6.32   \n",
            "6          8.77  2.00   Male     No  Sun  Dinner     2              4.38   \n",
            "..          ...   ...    ...    ...  ...     ...   ...               ...   \n",
            "236       12.60  1.00   Male    Yes  Sat  Dinner     2              6.30   \n",
            "237       32.83  1.17   Male    Yes  Sat  Dinner     2             16.42   \n",
            "239       29.03  5.92   Male     No  Sat  Dinner     3              9.68   \n",
            "241       22.67  2.00   Male    Yes  Sat  Dinner     2             11.34   \n",
            "242       17.82  1.75   Male     No  Sat  Dinner     2              8.91   \n",
            "\n",
            "             Payer Name     CC Number Payment ID  \n",
            "1        Douglas Tucker  4.478070e+15    Sun4608  \n",
            "2        Travis Walters  6.011810e+15    Sun4458  \n",
            "3      Nathaniel Harris  4.676140e+15    Sun5260  \n",
            "5            Erik Smith  2.131400e+14    Sun9679  \n",
            "6    Kristopher Johnson  2.223730e+15    Sun5985  \n",
            "..                  ...           ...        ...  \n",
            "236       Matthew Myers  3.543680e+15    Sat5032  \n",
            "237        Thomas Brown  4.284720e+15    Sat2929  \n",
            "239       Michael Avila  5.296070e+15    Sat2657  \n",
            "241          Keith Wong  6.011890e+15    Sat3880  \n",
            "242        Dennis Dixon  4.375220e+12      Sat17  \n",
            "\n",
            "[157 rows x 11 columns]\n"
          ]
        }
      ]
    },
    {
      "cell_type": "code",
      "source": [
        "# Multiple conditions (AND, OR, NOT)\n",
        "print(df[(df['total_bill'] > 30) & (df['gender'] == 'Male')])\n",
        "print(df[(df['total_bill'] > 30) & ~(df['gender'] == 'Male')])\n",
        "print(df[(df['total_bill'] > 30) | (df['tip'] > 5)])"
      ],
      "metadata": {
        "colab": {
          "base_uri": "https://localhost:8080/"
        },
        "id": "WVgz7hsIJ8De",
        "outputId": "dc24b3e8-a66d-4da2-8993-f1319044af18"
      },
      "execution_count": null,
      "outputs": [
        {
          "output_type": "stream",
          "name": "stdout",
          "text": [
            "     total_bill    tip gender smoker   day    time  size  price_per_person  \\\n",
            "23        39.42   7.58   Male     No   Sat  Dinner     4              9.86   \n",
            "39        31.27   5.00   Male     No   Sat  Dinner     3             10.42   \n",
            "44        30.40   5.60   Male     No   Sun  Dinner     4              7.60   \n",
            "47        32.40   6.00   Male     No   Sun  Dinner     4              8.10   \n",
            "56        38.01   3.00   Male    Yes   Sat  Dinner     4              9.50   \n",
            "59        48.27   6.73   Male     No   Sat  Dinner     4             12.07   \n",
            "83        32.68   5.00   Male    Yes  Thur   Lunch     2             16.34   \n",
            "95        40.17   4.73   Male    Yes   Fri  Dinner     4             10.04   \n",
            "112       38.07   4.00   Male     No   Sun  Dinner     3             12.69   \n",
            "141       34.30   6.70   Male     No  Thur   Lunch     6              5.72   \n",
            "142       41.19   5.00   Male     No  Thur   Lunch     5              8.24   \n",
            "156       48.17   5.00   Male     No   Sun  Dinner     6              8.03   \n",
            "167       31.71   4.50   Male     No   Sun  Dinner     4              7.93   \n",
            "170       50.81  10.00   Male    Yes   Sat  Dinner     3             16.94   \n",
            "173       31.85   3.18   Male    Yes   Sun  Dinner     2             15.92   \n",
            "175       32.90   3.11   Male    Yes   Sun  Dinner     2             16.45   \n",
            "179       34.63   3.55   Male    Yes   Sun  Dinner     2             17.32   \n",
            "180       34.65   3.68   Male    Yes   Sun  Dinner     4              8.66   \n",
            "182       45.35   3.50   Male    Yes   Sun  Dinner     3             15.12   \n",
            "184       40.55   3.00   Male    Yes   Sun  Dinner     2             20.27   \n",
            "187       30.46   2.00   Male    Yes   Sun  Dinner     5              6.09   \n",
            "207       38.73   3.00   Male    Yes   Sat  Dinner     4              9.68   \n",
            "210       30.06   2.00   Male    Yes   Sat  Dinner     3             10.02   \n",
            "212       48.33   9.00   Male     No   Sat  Dinner     4             12.08   \n",
            "237       32.83   1.17   Male    Yes   Sat  Dinner     2             16.42   \n",
            "\n",
            "                Payer Name     CC Number Payment ID  \n",
            "23          Lance Peterson  3.542580e+15     Sat239  \n",
            "39       Mr. Brandon Berry  6.011530e+15    Sat6373  \n",
            "44             Todd Cooper  5.038470e+11    Sun2274  \n",
            "47            James Barnes  3.552000e+15    Sun9677  \n",
            "56   James Christensen DDS  3.497940e+14    Sat8903  \n",
            "59             Brian Ortiz  6.596450e+15    Sat8139  \n",
            "83           Daniel Murphy  5.356180e+15   Thur8801  \n",
            "95           Aaron Bentley  1.800270e+14    Fri9628  \n",
            "112             Jeff Lopez  3.572870e+15     Sun591  \n",
            "141         Steven Carlson  3.526520e+15   Thur1025  \n",
            "142           Eric Andrews  4.356530e+15   Thur3621  \n",
            "156          Ryan Gonzales  3.523150e+15    Sun7518  \n",
            "167         Michael Lawson  3.566290e+15    Sun3719  \n",
            "170          Gregory Clark  5.473850e+15    Sat1954  \n",
            "173            Scott Perez  3.577120e+15    Sun9335  \n",
            "175        Nathan Reynolds  3.703070e+14    Sun5109  \n",
            "179           Brian Bailey  3.466560e+14    Sun9851  \n",
            "180       James Hebert DDS  6.761690e+11    Sun7544  \n",
            "182           Jose Parsons  4.112210e+15    Sun2337  \n",
            "184            Stephen Cox  3.547800e+15    Sun5140  \n",
            "187          David Barrett  4.792880e+15    Sun9987  \n",
            "207          Ricky Ramirez  3.478180e+14    Sat4505  \n",
            "210          Shawn Mendoza  3.018400e+13    Sat8361  \n",
            "212        Alex Williamson  6.762190e+11    Sat4590  \n",
            "237           Thomas Brown  4.284720e+15    Sat2929  \n",
            "     total_bill   tip  gender smoker   day    time  size  price_per_person  \\\n",
            "11        35.26  5.00  Female     No   Sun  Dinner     4              8.82   \n",
            "52        34.81  5.20  Female     No   Sun  Dinner     4              8.70   \n",
            "85        34.83  5.17  Female     No  Thur   Lunch     4              8.71   \n",
            "102       44.30  2.50  Female    Yes   Sat  Dinner     3             14.77   \n",
            "197       43.11  5.00  Female    Yes  Thur   Lunch     4             10.78   \n",
            "219       30.14  3.09  Female    Yes   Sat  Dinner     4              7.54   \n",
            "238       35.83  4.67  Female     No   Sat  Dinner     3             11.94   \n",
            "\n",
            "         Payer Name     CC Number Payment ID  \n",
            "11     Diane Macias  4.577820e+15    Sun6686  \n",
            "52     Emily Daniel  4.291280e+15    Sun6165  \n",
            "85      Shawna Cook  6.011790e+15   Thur7972  \n",
            "102   Heather Cohen  3.797710e+14    Sat6240  \n",
            "197     Brooke Soto  5.544900e+15   Thur9313  \n",
            "219    Shelby House  5.020970e+11    Sat8863  \n",
            "238  Kimberly Crane  6.761840e+11    Sat9777  \n",
            "     total_bill    tip  gender smoker   day    time  size  price_per_person  \\\n",
            "11        35.26   5.00  Female     No   Sun  Dinner     4              8.82   \n",
            "23        39.42   7.58    Male     No   Sat  Dinner     4              9.86   \n",
            "39        31.27   5.00    Male     No   Sat  Dinner     3             10.42   \n",
            "44        30.40   5.60    Male     No   Sun  Dinner     4              7.60   \n",
            "47        32.40   6.00    Male     No   Sun  Dinner     4              8.10   \n",
            "52        34.81   5.20  Female     No   Sun  Dinner     4              8.70   \n",
            "56        38.01   3.00    Male    Yes   Sat  Dinner     4              9.50   \n",
            "59        48.27   6.73    Male     No   Sat  Dinner     4             12.07   \n",
            "83        32.68   5.00    Male    Yes  Thur   Lunch     2             16.34   \n",
            "85        34.83   5.17  Female     No  Thur   Lunch     4              8.71   \n",
            "88        24.71   5.85    Male     No  Thur   Lunch     2             12.36   \n",
            "95        40.17   4.73    Male    Yes   Fri  Dinner     4             10.04   \n",
            "102       44.30   2.50  Female    Yes   Sat  Dinner     3             14.77   \n",
            "112       38.07   4.00    Male     No   Sun  Dinner     3             12.69   \n",
            "116       29.93   5.07    Male     No   Sun  Dinner     4              7.48   \n",
            "141       34.30   6.70    Male     No  Thur   Lunch     6              5.72   \n",
            "142       41.19   5.00    Male     No  Thur   Lunch     5              8.24   \n",
            "155       29.85   5.14  Female     No   Sun  Dinner     5              5.97   \n",
            "156       48.17   5.00    Male     No   Sun  Dinner     6              8.03   \n",
            "167       31.71   4.50    Male     No   Sun  Dinner     4              7.93   \n",
            "170       50.81  10.00    Male    Yes   Sat  Dinner     3             16.94   \n",
            "172        7.25   5.15    Male    Yes   Sun  Dinner     2              3.62   \n",
            "173       31.85   3.18    Male    Yes   Sun  Dinner     2             15.92   \n",
            "175       32.90   3.11    Male    Yes   Sun  Dinner     2             16.45   \n",
            "179       34.63   3.55    Male    Yes   Sun  Dinner     2             17.32   \n",
            "180       34.65   3.68    Male    Yes   Sun  Dinner     4              8.66   \n",
            "181       23.33   5.65    Male    Yes   Sun  Dinner     2             11.66   \n",
            "182       45.35   3.50    Male    Yes   Sun  Dinner     3             15.12   \n",
            "183       23.17   6.50    Male    Yes   Sun  Dinner     4              5.79   \n",
            "184       40.55   3.00    Male    Yes   Sun  Dinner     2             20.27   \n",
            "187       30.46   2.00    Male    Yes   Sun  Dinner     5              6.09   \n",
            "197       43.11   5.00  Female    Yes  Thur   Lunch     4             10.78   \n",
            "207       38.73   3.00    Male    Yes   Sat  Dinner     4              9.68   \n",
            "210       30.06   2.00    Male    Yes   Sat  Dinner     3             10.02   \n",
            "211       25.89   5.16    Male    Yes   Sat  Dinner     4              6.47   \n",
            "212       48.33   9.00    Male     No   Sat  Dinner     4             12.08   \n",
            "214       28.17   6.50  Female    Yes   Sat  Dinner     3              9.39   \n",
            "219       30.14   3.09  Female    Yes   Sat  Dinner     4              7.54   \n",
            "237       32.83   1.17    Male    Yes   Sat  Dinner     2             16.42   \n",
            "238       35.83   4.67  Female     No   Sat  Dinner     3             11.94   \n",
            "239       29.03   5.92    Male     No   Sat  Dinner     3              9.68   \n",
            "\n",
            "                Payer Name     CC Number Payment ID  \n",
            "11            Diane Macias  4.577820e+15    Sun6686  \n",
            "23          Lance Peterson  3.542580e+15     Sat239  \n",
            "39       Mr. Brandon Berry  6.011530e+15    Sat6373  \n",
            "44             Todd Cooper  5.038470e+11    Sun2274  \n",
            "47            James Barnes  3.552000e+15    Sun9677  \n",
            "52            Emily Daniel  4.291280e+15    Sun6165  \n",
            "56   James Christensen DDS  3.497940e+14    Sat8903  \n",
            "59             Brian Ortiz  6.596450e+15    Sat8139  \n",
            "83           Daniel Murphy  5.356180e+15   Thur8801  \n",
            "85             Shawna Cook  6.011790e+15   Thur7972  \n",
            "88            Roger Taylor  4.410250e+12   Thur9003  \n",
            "95           Aaron Bentley  1.800270e+14    Fri9628  \n",
            "102          Heather Cohen  3.797710e+14    Sat6240  \n",
            "112             Jeff Lopez  3.572870e+15     Sun591  \n",
            "116            Shawn Blake  4.689080e+15      Sun22  \n",
            "141         Steven Carlson  3.526520e+15   Thur1025  \n",
            "142           Eric Andrews  4.356530e+15   Thur3621  \n",
            "155         Madison Wilson  4.210880e+15    Sun9176  \n",
            "156          Ryan Gonzales  3.523150e+15    Sun7518  \n",
            "167         Michael Lawson  3.566290e+15    Sun3719  \n",
            "170          Gregory Clark  5.473850e+15    Sat1954  \n",
            "172            Larry White  3.043260e+13    Sun9209  \n",
            "173            Scott Perez  3.577120e+15    Sun9335  \n",
            "175        Nathan Reynolds  3.703070e+14    Sun5109  \n",
            "179           Brian Bailey  3.466560e+14    Sun9851  \n",
            "180       James Hebert DDS  6.761690e+11    Sun7544  \n",
            "181              Jason Cox  6.556930e+15    Sun3402  \n",
            "182           Jose Parsons  4.112210e+15    Sun2337  \n",
            "183      Dr. Michael James  4.718500e+12    Sun6059  \n",
            "184            Stephen Cox  3.547800e+15    Sun5140  \n",
            "187          David Barrett  4.792880e+15    Sun9987  \n",
            "197            Brooke Soto  5.544900e+15   Thur9313  \n",
            "207          Ricky Ramirez  3.478180e+14    Sat4505  \n",
            "210          Shawn Mendoza  3.018400e+13    Sat8361  \n",
            "211         Christopher Li  6.011960e+15    Sat6735  \n",
            "212        Alex Williamson  6.762190e+11    Sat4590  \n",
            "214        Marissa Jackson  4.922300e+15    Sat3374  \n",
            "219           Shelby House  5.020970e+11    Sat8863  \n",
            "237           Thomas Brown  4.284720e+15    Sat2929  \n",
            "238         Kimberly Crane  6.761840e+11    Sat9777  \n",
            "239          Michael Avila  5.296070e+15    Sat2657  \n"
          ]
        }
      ]
    },
    {
      "cell_type": "code",
      "source": [
        "# Using in for checking if a column value is in a list of options\n",
        "\n",
        "options = ['Sat', 'Sun']\n",
        "print(df[df['day'].isin(options)])\n",
        "print(df[(df['day'] == 'Sat') | (df['day'] == 'Sun')])"
      ],
      "metadata": {
        "colab": {
          "base_uri": "https://localhost:8080/"
        },
        "id": "aq2idxnFKdZ1",
        "outputId": "053e8845-c7eb-468d-cf54-2e8f8b372866"
      },
      "execution_count": null,
      "outputs": [
        {
          "output_type": "stream",
          "name": "stdout",
          "text": [
            "     total_bill   tip  gender smoker  day    time  size  price_per_person  \\\n",
            "0         16.99  1.01  Female     No  Sun  Dinner     2              8.49   \n",
            "1         10.34  1.66    Male     No  Sun  Dinner     3              3.45   \n",
            "2         21.01  3.50    Male     No  Sun  Dinner     3              7.00   \n",
            "3         23.68  3.31    Male     No  Sun  Dinner     2             11.84   \n",
            "4         24.59  3.61  Female     No  Sun  Dinner     4              6.15   \n",
            "..          ...   ...     ...    ...  ...     ...   ...               ...   \n",
            "238       35.83  4.67  Female     No  Sat  Dinner     3             11.94   \n",
            "239       29.03  5.92    Male     No  Sat  Dinner     3              9.68   \n",
            "240       27.18  2.00  Female    Yes  Sat  Dinner     2             13.59   \n",
            "241       22.67  2.00    Male    Yes  Sat  Dinner     2             11.34   \n",
            "242       17.82  1.75    Male     No  Sat  Dinner     2              8.91   \n",
            "\n",
            "             Payer Name     CC Number Payment ID  \n",
            "0    Christy Cunningham  3.560330e+15    Sun2959  \n",
            "1        Douglas Tucker  4.478070e+15    Sun4608  \n",
            "2        Travis Walters  6.011810e+15    Sun4458  \n",
            "3      Nathaniel Harris  4.676140e+15    Sun5260  \n",
            "4          Tonya Carter  4.832730e+15    Sun2251  \n",
            "..                  ...           ...        ...  \n",
            "238      Kimberly Crane  6.761840e+11    Sat9777  \n",
            "239       Michael Avila  5.296070e+15    Sat2657  \n",
            "240      Monica Sanders  3.506810e+15    Sat1766  \n",
            "241          Keith Wong  6.011890e+15    Sat3880  \n",
            "242        Dennis Dixon  4.375220e+12      Sat17  \n",
            "\n",
            "[163 rows x 11 columns]\n",
            "     total_bill   tip  gender smoker  day    time  size  price_per_person  \\\n",
            "0         16.99  1.01  Female     No  Sun  Dinner     2              8.49   \n",
            "1         10.34  1.66    Male     No  Sun  Dinner     3              3.45   \n",
            "2         21.01  3.50    Male     No  Sun  Dinner     3              7.00   \n",
            "3         23.68  3.31    Male     No  Sun  Dinner     2             11.84   \n",
            "4         24.59  3.61  Female     No  Sun  Dinner     4              6.15   \n",
            "..          ...   ...     ...    ...  ...     ...   ...               ...   \n",
            "238       35.83  4.67  Female     No  Sat  Dinner     3             11.94   \n",
            "239       29.03  5.92    Male     No  Sat  Dinner     3              9.68   \n",
            "240       27.18  2.00  Female    Yes  Sat  Dinner     2             13.59   \n",
            "241       22.67  2.00    Male    Yes  Sat  Dinner     2             11.34   \n",
            "242       17.82  1.75    Male     No  Sat  Dinner     2              8.91   \n",
            "\n",
            "             Payer Name     CC Number Payment ID  \n",
            "0    Christy Cunningham  3.560330e+15    Sun2959  \n",
            "1        Douglas Tucker  4.478070e+15    Sun4608  \n",
            "2        Travis Walters  6.011810e+15    Sun4458  \n",
            "3      Nathaniel Harris  4.676140e+15    Sun5260  \n",
            "4          Tonya Carter  4.832730e+15    Sun2251  \n",
            "..                  ...           ...        ...  \n",
            "238      Kimberly Crane  6.761840e+11    Sat9777  \n",
            "239       Michael Avila  5.296070e+15    Sat2657  \n",
            "240      Monica Sanders  3.506810e+15    Sat1766  \n",
            "241          Keith Wong  6.011890e+15    Sat3880  \n",
            "242        Dennis Dixon  4.375220e+12      Sat17  \n",
            "\n",
            "[163 rows x 11 columns]\n"
          ]
        }
      ]
    },
    {
      "cell_type": "markdown",
      "source": [
        " Pandas Useful Methods"
      ],
      "metadata": {
        "id": "DOrlyMxwLRxY"
      }
    },
    {
      "cell_type": "code",
      "source": [
        "# Sort values by tip\n",
        "print(df.sort_values('tip').head())"
      ],
      "metadata": {
        "colab": {
          "base_uri": "https://localhost:8080/"
        },
        "id": "FKdlnilVLWVm",
        "outputId": "cf72166e-8cdc-4e59-c0ba-0e35e6bf378f"
      },
      "execution_count": null,
      "outputs": [
        {
          "output_type": "stream",
          "name": "stdout",
          "text": [
            "     total_bill   tip  gender smoker  day    time  size  price_per_person  \\\n",
            "67         3.07  1.00  Female    Yes  Sat  Dinner     1              3.07   \n",
            "236       12.60  1.00    Male    Yes  Sat  Dinner     2              6.30   \n",
            "92         5.75  1.00  Female    Yes  Fri  Dinner     2              2.88   \n",
            "111        7.25  1.00  Female     No  Sat  Dinner     1              7.25   \n",
            "0         16.99  1.01  Female     No  Sun  Dinner     2              8.49   \n",
            "\n",
            "             Payer Name     CC Number Payment ID  \n",
            "67        Tiffany Brock  4.359490e+15    Sat3455  \n",
            "236       Matthew Myers  3.543680e+15    Sat5032  \n",
            "92         Leah Ramirez  3.508910e+15    Fri3780  \n",
            "111         Terri Jones  3.559220e+15    Sat4801  \n",
            "0    Christy Cunningham  3.560330e+15    Sun2959  \n"
          ]
        }
      ]
    },
    {
      "cell_type": "code",
      "source": [
        "# Sort in descending order\n",
        "print(df.sort_values('tip', ascending = False).head())"
      ],
      "metadata": {
        "colab": {
          "base_uri": "https://localhost:8080/"
        },
        "id": "itpoLkMWLm31",
        "outputId": "73071d29-979a-41f0-c49b-cd1f21dd37be"
      },
      "execution_count": null,
      "outputs": [
        {
          "output_type": "stream",
          "name": "stdout",
          "text": [
            "     total_bill    tip gender smoker   day    time  size  price_per_person  \\\n",
            "170       50.81  10.00   Male    Yes   Sat  Dinner     3             16.94   \n",
            "212       48.33   9.00   Male     No   Sat  Dinner     4             12.08   \n",
            "23        39.42   7.58   Male     No   Sat  Dinner     4              9.86   \n",
            "59        48.27   6.73   Male     No   Sat  Dinner     4             12.07   \n",
            "141       34.30   6.70   Male     No  Thur   Lunch     6              5.72   \n",
            "\n",
            "          Payer Name     CC Number Payment ID  \n",
            "170    Gregory Clark  5.473850e+15    Sat1954  \n",
            "212  Alex Williamson  6.762190e+11    Sat4590  \n",
            "23    Lance Peterson  3.542580e+15     Sat239  \n",
            "59       Brian Ortiz  6.596450e+15    Sat8139  \n",
            "141   Steven Carlson  3.526520e+15   Thur1025  \n"
          ]
        }
      ]
    },
    {
      "cell_type": "code",
      "source": [
        "# Calculate correlation between 'total_bill' and 'tip'\n",
        "print(df['total_bill'].corr(df['tip']))\n",
        "print(df[['total_bill', 'tip']].corr())"
      ],
      "metadata": {
        "colab": {
          "base_uri": "https://localhost:8080/"
        },
        "id": "8JSmr6oiLz_d",
        "outputId": "0bc860e2-47ca-487a-c704-9dd965b486c4"
      },
      "execution_count": null,
      "outputs": [
        {
          "output_type": "stream",
          "name": "stdout",
          "text": [
            "0.6757341092113641\n",
            "            total_bill       tip\n",
            "total_bill    1.000000  0.675734\n",
            "tip           0.675734  1.000000\n"
          ]
        }
      ]
    },
    {
      "cell_type": "code",
      "source": [
        "# Find Index of max and min total bill\n",
        "\n",
        "print(\"Max Total bill: \", df['total_bill'].max())\n",
        "print(\"Index of Max Total Bill: \", df['total_bill'].idxmax())\n",
        "print(\"Index of Min Total Bill: \", df['total_bill'].idxmin())"
      ],
      "metadata": {
        "colab": {
          "base_uri": "https://localhost:8080/"
        },
        "id": "sIhoWQdkL-Ll",
        "outputId": "e53e2f0a-3757-429b-ed46-5fb9b53e06b3"
      },
      "execution_count": null,
      "outputs": [
        {
          "output_type": "stream",
          "name": "stdout",
          "text": [
            "Max Total bill:  50.81\n",
            "Index of Max Total Bill:  170\n",
            "Index of Min Total Bill:  67\n"
          ]
        }
      ]
    },
    {
      "cell_type": "code",
      "source": [
        "# Get count of unique values in categorical columns\n",
        "print(df['smoker'].value_counts())\n",
        "print(df['gender'].value_counts())"
      ],
      "metadata": {
        "colab": {
          "base_uri": "https://localhost:8080/"
        },
        "id": "ZJwcC-rvMt4E",
        "outputId": "bea6ae98-46ce-4e78-91dc-b5e0a1207649"
      },
      "execution_count": null,
      "outputs": [
        {
          "output_type": "stream",
          "name": "stdout",
          "text": [
            "smoker\n",
            "No     151\n",
            "Yes     93\n",
            "Name: count, dtype: int64\n",
            "gender\n",
            "Male      157\n",
            "Female     87\n",
            "Name: count, dtype: int64\n"
          ]
        }
      ]
    },
    {
      "cell_type": "code",
      "source": [
        "# Map 'Dinner' to 'D' amd 'Lunch' to 'L' in time column\n",
        "df['time_mapped'] = df['time'].map({'Dinner': 'D', 'Lunch': 'L'})\n",
        "print(df.head())"
      ],
      "metadata": {
        "colab": {
          "base_uri": "https://localhost:8080/"
        },
        "id": "Cv4dvVx7NyFk",
        "outputId": "4b0fe6c5-7239-4040-a9e9-2f72d1f7e9e8"
      },
      "execution_count": null,
      "outputs": [
        {
          "output_type": "stream",
          "name": "stdout",
          "text": [
            "   total_bill   tip  gender smoker  day    time  size  price_per_person  \\\n",
            "0       16.99  1.01  Female     No  Sun  Dinner     2              8.49   \n",
            "1       10.34  1.66    Male     No  Sun  Dinner     3              3.45   \n",
            "2       21.01  3.50    Male     No  Sun  Dinner     3              7.00   \n",
            "3       23.68  3.31    Male     No  Sun  Dinner     2             11.84   \n",
            "4       24.59  3.61  Female     No  Sun  Dinner     4              6.15   \n",
            "\n",
            "           Payer Name     CC Number Payment ID time_mapped  \n",
            "0  Christy Cunningham  3.560330e+15    Sun2959           D  \n",
            "1      Douglas Tucker  4.478070e+15    Sun4608           D  \n",
            "2      Travis Walters  6.011810e+15    Sun4458           D  \n",
            "3    Nathaniel Harris  4.676140e+15    Sun5260           D  \n",
            "4        Tonya Carter  4.832730e+15    Sun2251           D  \n"
          ]
        }
      ]
    },
    {
      "cell_type": "code",
      "source": [
        "# Check for duplicates and drop them\n",
        "print(df.duplicated().sum()) # Count of duplicate rows\n",
        "df_no_duplicates = df.drop_duplicates()\n",
        "print(df_no_duplicates.head())"
      ],
      "metadata": {
        "colab": {
          "base_uri": "https://localhost:8080/"
        },
        "id": "W0b3XpUYOHb2",
        "outputId": "c5bfe875-eef3-4da9-aa6c-2bf7e045e65f"
      },
      "execution_count": null,
      "outputs": [
        {
          "output_type": "stream",
          "name": "stdout",
          "text": [
            "0\n",
            "   total_bill   tip  gender smoker  day    time  size  price_per_person  \\\n",
            "0       16.99  1.01  Female     No  Sun  Dinner     2              8.49   \n",
            "1       10.34  1.66    Male     No  Sun  Dinner     3              3.45   \n",
            "2       21.01  3.50    Male     No  Sun  Dinner     3              7.00   \n",
            "3       23.68  3.31    Male     No  Sun  Dinner     2             11.84   \n",
            "4       24.59  3.61  Female     No  Sun  Dinner     4              6.15   \n",
            "\n",
            "           Payer Name     CC Number Payment ID time_mapped  \n",
            "0  Christy Cunningham  3.560330e+15    Sun2959           D  \n",
            "1      Douglas Tucker  4.478070e+15    Sun4608           D  \n",
            "2      Travis Walters  6.011810e+15    Sun4458           D  \n",
            "3    Nathaniel Harris  4.676140e+15    Sun5260           D  \n",
            "4        Tonya Carter  4.832730e+15    Sun2251           D  \n"
          ]
        }
      ]
    },
    {
      "cell_type": "code",
      "source": [
        "# Use between() to filter values between a range\n",
        "filtered_df = df[df['total_bill'].between(10, 20, inclusive='both')]\n",
        "print(filtered_df.head())"
      ],
      "metadata": {
        "colab": {
          "base_uri": "https://localhost:8080/"
        },
        "id": "Oh0ov4j2PSnR",
        "outputId": "ce1eaebe-8d21-41bf-a8e1-f89a22d382f8"
      },
      "execution_count": null,
      "outputs": [
        {
          "output_type": "stream",
          "name": "stdout",
          "text": [
            "    total_bill   tip  gender smoker  day    time  size  price_per_person  \\\n",
            "0        16.99  1.01  Female     No  Sun  Dinner     2              8.49   \n",
            "1        10.34  1.66    Male     No  Sun  Dinner     3              3.45   \n",
            "8        15.04  1.96    Male     No  Sun  Dinner     2              7.52   \n",
            "9        14.78  3.23    Male     No  Sun  Dinner     2              7.39   \n",
            "10       10.27  1.71    Male     No  Sun  Dinner     2              5.14   \n",
            "\n",
            "            Payer Name     CC Number Payment ID time_mapped  \n",
            "0   Christy Cunningham  3.560330e+15    Sun2959           D  \n",
            "1       Douglas Tucker  4.478070e+15    Sun4608           D  \n",
            "8      Joseph Mcdonald  3.522870e+15    Sun6820           D  \n",
            "9        Jerome Abbott  3.532120e+15    Sun3775           D  \n",
            "10       William Riley  5.662880e+11    Sun2546           D  \n"
          ]
        }
      ]
    },
    {
      "cell_type": "code",
      "source": [
        "# Samole Random Data\n",
        "print(df.sample(5)) # Randomly sample 5 rows\n",
        "print(df.sample(frac = 0.1)) # Randomly sample 10% of rows\n"
      ],
      "metadata": {
        "colab": {
          "base_uri": "https://localhost:8080/"
        },
        "id": "H4A2t-6NPpZY",
        "outputId": "0bb31e88-fbef-46a1-f760-22c62485ee3f"
      },
      "execution_count": null,
      "outputs": [
        {
          "output_type": "stream",
          "name": "stdout",
          "text": [
            "     total_bill   tip  gender smoker   day    time  size  price_per_person  \\\n",
            "52        34.81  5.20  Female     No   Sun  Dinner     4              8.70   \n",
            "7         26.88  3.12    Male     No   Sun  Dinner     4              6.72   \n",
            "69        15.01  2.09    Male    Yes   Sat  Dinner     2              7.50   \n",
            "215       12.90  1.10  Female    Yes   Sat  Dinner     2              6.45   \n",
            "132       11.17  1.50  Female     No  Thur   Lunch     2              5.58   \n",
            "\n",
            "          Payer Name     CC Number Payment ID time_mapped  \n",
            "52      Emily Daniel  4.291280e+15    Sun6165           D  \n",
            "7        Robert Buck  3.514790e+15    Sun8157           D  \n",
            "69         Adam Hall  4.700920e+15     Sat855           D  \n",
            "215     Jessica Owen  4.726900e+12    Sat6983           D  \n",
            "132  Taylor Gonzalez  6.011990e+15   Thur7783           L  \n",
            "     total_bill    tip  gender smoker   day    time  size  price_per_person  \\\n",
            "119       24.08   2.92  Female     No  Thur   Lunch     4              6.02   \n",
            "57        26.41   1.50  Female     No   Sat  Dinner     2             13.20   \n",
            "230       24.01   2.00    Male    Yes   Sat  Dinner     4              6.00   \n",
            "58        11.24   1.76    Male    Yes   Sat  Dinner     2              5.62   \n",
            "130       19.08   1.50    Male     No  Thur   Lunch     2              9.54   \n",
            "158       13.39   2.61  Female     No   Sun  Dinner     2              6.70   \n",
            "212       48.33   9.00    Male     No   Sat  Dinner     4             12.08   \n",
            "167       31.71   4.50    Male     No   Sun  Dinner     4              7.93   \n",
            "189       23.10   4.00    Male    Yes   Sun  Dinner     3              7.70   \n",
            "170       50.81  10.00    Male    Yes   Sat  Dinner     3             16.94   \n",
            "241       22.67   2.00    Male    Yes   Sat  Dinner     2             11.34   \n",
            "50        12.54   2.50    Male     No   Sun  Dinner     2              6.27   \n",
            "25        17.81   2.34    Male     No   Sat  Dinner     4              4.45   \n",
            "52        34.81   5.20  Female     No   Sun  Dinner     4              8.70   \n",
            "53         9.94   1.56    Male     No   Sun  Dinner     2              4.97   \n",
            "141       34.30   6.70    Male     No  Thur   Lunch     6              5.72   \n",
            "107       25.21   4.29    Male    Yes   Sat  Dinner     2             12.60   \n",
            "115       17.31   3.50  Female     No   Sun  Dinner     2              8.65   \n",
            "47        32.40   6.00    Male     No   Sun  Dinner     4              8.10   \n",
            "235       10.07   1.25    Male     No   Sat  Dinner     2              5.04   \n",
            "65        20.08   3.15    Male     No   Sat  Dinner     3              6.69   \n",
            "13        18.43   3.00    Male     No   Sun  Dinner     4              4.61   \n",
            "200       18.71   4.00    Male    Yes  Thur   Lunch     3              6.24   \n",
            "145        8.35   1.50  Female     No  Thur   Lunch     2              4.18   \n",
            "\n",
            "          Payer Name     CC Number Payment ID time_mapped  \n",
            "119   Melanie Jordan  6.762120e+11   Thur8063           L  \n",
            "57      Melody Simon  4.745390e+15    Sat8980           D  \n",
            "230  Michael Osborne  4.258680e+12    Sat7872           D  \n",
            "58     Troy Guerrero  3.560780e+15    Sat6683           D  \n",
            "130   Seth genderton  2.131140e+14   Thur1446           L  \n",
            "158      Ashley Boyd  3.571090e+15     Sun982           D  \n",
            "212  Alex Williamson  6.762190e+11    Sat4590           D  \n",
            "167   Michael Lawson  3.566290e+15    Sun3719           D  \n",
            "189  Richard Stevens  3.560190e+15    Sun1821           D  \n",
            "170    Gregory Clark  5.473850e+15    Sat1954           D  \n",
            "241       Keith Wong  6.011890e+15    Sat3880           D  \n",
            "50     Jeremiah Neal  2.225400e+15    Sun2021           D  \n",
            "25    Robert Perkins  3.050290e+13     Sat907           D  \n",
            "52      Emily Daniel  4.291280e+15    Sun6165           D  \n",
            "53     Curtis Morgan  4.628630e+15    Sun4561           D  \n",
            "141   Steven Carlson  3.526520e+15   Thur1025           L  \n",
            "107     Jason Mullen  4.738780e+12    Sat5196           D  \n",
            "115      Kayla Stone  3.794940e+14    Sun8746           D  \n",
            "47      James Barnes  3.552000e+15    Sun9677           D  \n",
            "235    Sean Gonzalez  3.534020e+15    Sat4615           D  \n",
            "65      Justin Dixon  1.800210e+14    Sat6840           D  \n",
            "13      Joshua Jones  6.011160e+15    Sun2971           D  \n",
            "200     Jason Conrad  4.581230e+12   Thur6048           L  \n",
            "145        Amy Young  4.285450e+12   Thur9331           L  \n"
          ]
        }
      ]
    },
    {
      "cell_type": "code",
      "source": [
        "# Get n largest and smallest values by 'tip'\n",
        "print(df.nlargest(5, 'tip'))\n",
        "print(df.nsmallest(5, 'tip'))"
      ],
      "metadata": {
        "colab": {
          "base_uri": "https://localhost:8080/"
        },
        "id": "RShmsEBvP8DY",
        "outputId": "f0ea228d-3e98-48ad-c10b-5c4ecc173513"
      },
      "execution_count": null,
      "outputs": [
        {
          "output_type": "stream",
          "name": "stdout",
          "text": [
            "     total_bill    tip gender smoker   day    time  size  price_per_person  \\\n",
            "170       50.81  10.00   Male    Yes   Sat  Dinner     3             16.94   \n",
            "212       48.33   9.00   Male     No   Sat  Dinner     4             12.08   \n",
            "23        39.42   7.58   Male     No   Sat  Dinner     4              9.86   \n",
            "59        48.27   6.73   Male     No   Sat  Dinner     4             12.07   \n",
            "141       34.30   6.70   Male     No  Thur   Lunch     6              5.72   \n",
            "\n",
            "          Payer Name     CC Number Payment ID time_mapped  \n",
            "170    Gregory Clark  5.473850e+15    Sat1954           D  \n",
            "212  Alex Williamson  6.762190e+11    Sat4590           D  \n",
            "23    Lance Peterson  3.542580e+15     Sat239           D  \n",
            "59       Brian Ortiz  6.596450e+15    Sat8139           D  \n",
            "141   Steven Carlson  3.526520e+15   Thur1025           L  \n",
            "     total_bill   tip  gender smoker  day    time  size  price_per_person  \\\n",
            "67         3.07  1.00  Female    Yes  Sat  Dinner     1              3.07   \n",
            "92         5.75  1.00  Female    Yes  Fri  Dinner     2              2.88   \n",
            "111        7.25  1.00  Female     No  Sat  Dinner     1              7.25   \n",
            "236       12.60  1.00    Male    Yes  Sat  Dinner     2              6.30   \n",
            "0         16.99  1.01  Female     No  Sun  Dinner     2              8.49   \n",
            "\n",
            "             Payer Name     CC Number Payment ID time_mapped  \n",
            "67        Tiffany Brock  4.359490e+15    Sat3455           D  \n",
            "92         Leah Ramirez  3.508910e+15    Fri3780           D  \n",
            "111         Terri Jones  3.559220e+15    Sat4801           D  \n",
            "236       Matthew Myers  3.543680e+15    Sat5032           D  \n",
            "0    Christy Cunningham  3.560330e+15    Sun2959           D  \n"
          ]
        }
      ]
    },
    {
      "cell_type": "markdown",
      "source": [
        "# Grouping"
      ],
      "metadata": {
        "id": "bJWcKs_HQgTf"
      }
    },
    {
      "cell_type": "markdown",
      "source": [
        "# Group By Functionality\n",
        "1. Splitting : The data is divided into groups based on the criteria provided.\n",
        "2. Applying : A function ( or multiple functions) is applied to each group independently.\n",
        "3. Combining : The results of the function applications are combined into a new DataFrame.\n",
        "\n",
        "Grouping causes no changes to the output, only internally it makes group, the output effect is seen in applying phase where specific function is applied to specific groups or by groups."
      ],
      "metadata": {
        "id": "I4yACco8R3xE"
      }
    },
    {
      "cell_type": "code",
      "source": [
        "# 1. Splitting - Group by 'gender'\n",
        "df_grouped = df.groupby('gender')\n",
        "print(df_grouped.head())"
      ],
      "metadata": {
        "colab": {
          "base_uri": "https://localhost:8080/"
        },
        "id": "zHYdfL6KQZB_",
        "outputId": "934e250c-c7c4-4388-d5e8-1390e98382a3"
      },
      "execution_count": null,
      "outputs": [
        {
          "output_type": "stream",
          "name": "stdout",
          "text": [
            "    total_bill   tip  gender smoker  day    time  size  price_per_person  \\\n",
            "0        16.99  1.01  Female     No  Sun  Dinner     2              8.49   \n",
            "1        10.34  1.66    Male     No  Sun  Dinner     3              3.45   \n",
            "2        21.01  3.50    Male     No  Sun  Dinner     3              7.00   \n",
            "3        23.68  3.31    Male     No  Sun  Dinner     2             11.84   \n",
            "4        24.59  3.61  Female     No  Sun  Dinner     4              6.15   \n",
            "5        25.29  4.71    Male     No  Sun  Dinner     4              6.32   \n",
            "6         8.77  2.00    Male     No  Sun  Dinner     2              4.38   \n",
            "11       35.26  5.00  Female     No  Sun  Dinner     4              8.82   \n",
            "14       14.83  3.02  Female     No  Sun  Dinner     2              7.42   \n",
            "16       10.33  1.67  Female     No  Sun  Dinner     3              3.44   \n",
            "\n",
            "            Payer Name     CC Number Payment ID time_mapped  \n",
            "0   Christy Cunningham  3.560330e+15    Sun2959           D  \n",
            "1       Douglas Tucker  4.478070e+15    Sun4608           D  \n",
            "2       Travis Walters  6.011810e+15    Sun4458           D  \n",
            "3     Nathaniel Harris  4.676140e+15    Sun5260           D  \n",
            "4         Tonya Carter  4.832730e+15    Sun2251           D  \n",
            "5           Erik Smith  2.131400e+14    Sun9679           D  \n",
            "6   Kristopher Johnson  2.223730e+15    Sun5985           D  \n",
            "11        Diane Macias  4.577820e+15    Sun6686           D  \n",
            "14       Vanessa Jones  3.001670e+13    Sun3848           D  \n",
            "16    Elizabeth Foster  4.240030e+15    Sun9715           D  \n"
          ]
        }
      ]
    },
    {
      "cell_type": "code",
      "source": [
        "# 2. Applying - calculate various statistics for 'tip' by 'gender'\n",
        "mean_tip_by_gender = df_grouped['tip'].mean() # Mean tip by gender\n",
        "print(mean_tip_by_gender)"
      ],
      "metadata": {
        "colab": {
          "base_uri": "https://localhost:8080/"
        },
        "id": "O-89cZocSURo",
        "outputId": "7a917a9c-05d3-4da9-c1f4-80fc1e812c54"
      },
      "execution_count": null,
      "outputs": [
        {
          "output_type": "stream",
          "name": "stdout",
          "text": [
            "gender\n",
            "Female    2.833448\n",
            "Male      3.089618\n",
            "Name: tip, dtype: float64\n"
          ]
        }
      ]
    },
    {
      "cell_type": "code",
      "source": [
        "# 3. Combining - Group by both 'gender' and 'day'\n",
        "df_grouped_day = df.groupby(['gender', 'day' ])\n",
        "mean_tip_by_gender_day = df_grouped_day['tip'].mean() # Mean tip by gender and day\n",
        "print(mean_tip_by_gender_day)"
      ],
      "metadata": {
        "colab": {
          "base_uri": "https://localhost:8080/"
        },
        "id": "LifuD3OASh33",
        "outputId": "0ba1d2ee-6b15-483c-d6aa-f61d3d182da8"
      },
      "execution_count": null,
      "outputs": [
        {
          "output_type": "stream",
          "name": "stdout",
          "text": [
            "gender  day \n",
            "Female  Fri     2.781111\n",
            "        Sat     2.801786\n",
            "        Sun     3.367222\n",
            "        Thur    2.575625\n",
            "Male    Fri     2.693000\n",
            "        Sat     3.083898\n",
            "        Sun     3.220345\n",
            "        Thur    2.980333\n",
            "Name: tip, dtype: float64\n"
          ]
        }
      ]
    },
    {
      "cell_type": "code",
      "source": [
        "# 4. Aggregation with multiple functions\n",
        "df_grouped_agg = df.groupby(['gender','day']).agg({'tip': ['mean', 'max', 'min', 'sum']})\n",
        "print(df_grouped_agg)"
      ],
      "metadata": {
        "colab": {
          "base_uri": "https://localhost:8080/"
        },
        "id": "aKwZbIciTdKm",
        "outputId": "b185e726-916b-4598-e5a9-d3138992f877"
      },
      "execution_count": null,
      "outputs": [
        {
          "output_type": "stream",
          "name": "stdout",
          "text": [
            "                  tip                     \n",
            "                 mean    max   min     sum\n",
            "gender day                                \n",
            "Female Fri   2.781111   4.30  1.00   25.03\n",
            "       Sat   2.801786   6.50  1.00   78.45\n",
            "       Sun   3.367222   5.20  1.01   60.61\n",
            "       Thur  2.575625   5.17  1.25   82.42\n",
            "Male   Fri   2.693000   4.73  1.50   26.93\n",
            "       Sat   3.083898  10.00  1.00  181.95\n",
            "       Sun   3.220345   6.50  1.32  186.78\n",
            "       Thur  2.980333   6.70  1.44   89.41\n"
          ]
        }
      ]
    },
    {
      "cell_type": "code",
      "source": [
        "df_grouped_agg = df.groupby(['gender','day']).agg({'tip': ['mean', 'max', 'min', 'sum']}).reset_index() # Always remember to reset index after grouping opertation\n",
        "print(df_grouped_agg)"
      ],
      "metadata": {
        "colab": {
          "base_uri": "https://localhost:8080/"
        },
        "id": "RfzRcpSIUCJ9",
        "outputId": "3d43f5a3-81a4-4389-eb07-6d0fa233fe48"
      },
      "execution_count": null,
      "outputs": [
        {
          "output_type": "stream",
          "name": "stdout",
          "text": [
            "   gender   day       tip                     \n",
            "                     mean    max   min     sum\n",
            "0  Female   Fri  2.781111   4.30  1.00   25.03\n",
            "1  Female   Sat  2.801786   6.50  1.00   78.45\n",
            "2  Female   Sun  3.367222   5.20  1.01   60.61\n",
            "3  Female  Thur  2.575625   5.17  1.25   82.42\n",
            "4    Male   Fri  2.693000   4.73  1.50   26.93\n",
            "5    Male   Sat  3.083898  10.00  1.00  181.95\n",
            "6    Male   Sun  3.220345   6.50  1.32  186.78\n",
            "7    Male  Thur  2.980333   6.70  1.44   89.41\n"
          ]
        }
      ]
    },
    {
      "cell_type": "code",
      "source": [],
      "metadata": {
        "id": "gfKhin43UdO9"
      },
      "execution_count": null,
      "outputs": []
    }
  ]
}